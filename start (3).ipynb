{
 "cells": [
  {
   "cell_type": "code",
   "execution_count": 1,
   "id": "2221dd40-a1c8-41ec-8219-9ebedf554dd1",
   "metadata": {},
   "outputs": [],
   "source": [
    "%pip install wget\n",
    "%pip install gensim pyLDAvis matplotlib\n",
    "%pip install pyLDAvis.gensim gensim.corpora gensim.models "
   ]
  },
  {
   "cell_type": "code",
   "execution_count": 92,
   "id": "7b09d169-1817-43b2-abc9-cd19d5e9fdc7",
   "metadata": {},
   "outputs": [],
   "source": [
    "\n",
    "import pandas as pd\n",
    "import numpy as np\n",
    "import zipfile\n",
    "import wget"
   ]
  },
  {
   "cell_type": "code",
   "execution_count": 93,
   "id": "c4fb0c2b-432b-4b80-b144-500a49342672",
   "metadata": {},
   "outputs": [],
   "source": [
    "import pyLDAvis\n",
    "#import pyLDAvis.gensim #don't skip\n",
    "import matplotlib.pyplot as plt\n",
    "from gensim.models import Word2Vec\n",
    "import gensim\n",
    "import gensim.corpora as corpora\n",
    "from gensim.models import CoherenceModel\n",
    "\n",
    "\n",
    "%matplotlib inline"
   ]
  },
  {
   "cell_type": "code",
   "execution_count": 94,
   "id": "0d6e54a0-5ae4-4c70-aa59-c388e387130f",
   "metadata": {},
   "outputs": [],
   "source": [
    "train = pd.read_csv('data/train', sep='\\t')"
   ]
  },
  {
   "cell_type": "code",
   "execution_count": 95,
   "id": "e44056e0-d2b3-4c72-a41b-5fe8c7c2573a",
   "metadata": {},
   "outputs": [
    {
     "data": {
      "text/html": [
       "<div>\n",
       "<style scoped>\n",
       "    .dataframe tbody tr th:only-of-type {\n",
       "        vertical-align: middle;\n",
       "    }\n",
       "\n",
       "    .dataframe tbody tr th {\n",
       "        vertical-align: top;\n",
       "    }\n",
       "\n",
       "    .dataframe thead th {\n",
       "        text-align: right;\n",
       "    }\n",
       "</style>\n",
       "<table border=\"1\" class=\"dataframe\">\n",
       "  <thead>\n",
       "    <tr style=\"text-align: right;\">\n",
       "      <th></th>\n",
       "      <th>CLIENT_ID</th>\n",
       "      <th>RETRO_DT</th>\n",
       "      <th>tokens</th>\n",
       "      <th>urls_hashed</th>\n",
       "    </tr>\n",
       "  </thead>\n",
       "  <tbody>\n",
       "    <tr>\n",
       "      <th>0</th>\n",
       "      <td>5467000</td>\n",
       "      <td>20200419</td>\n",
       "      <td>vezet 1 hats 2 сухого 1 деньги 1 режим 4 недел...</td>\n",
       "      <td>4104c0437f707b9f443bf845d92d3633 1 83e85bee0d8...</td>\n",
       "    </tr>\n",
       "    <tr>\n",
       "      <th>1</th>\n",
       "      <td>6093848</td>\n",
       "      <td>20201107</td>\n",
       "      <td>статью 1 month 4 udobreniya 1 podkormka 1 акту...</td>\n",
       "      <td>db0853001fff2bbe88cb5fa709d8077e 1 6e617b4bfdb...</td>\n",
       "    </tr>\n",
       "    <tr>\n",
       "      <th>2</th>\n",
       "      <td>5269916</td>\n",
       "      <td>20200305</td>\n",
       "      <td>zdorovye 2 мобильные 1 снять 2 tovara 1 платье...</td>\n",
       "      <td>1889e0cbd3e343e9521a07aa312257ac 2 aee71c8d18d...</td>\n",
       "    </tr>\n",
       "    <tr>\n",
       "      <th>3</th>\n",
       "      <td>816015821</td>\n",
       "      <td>20220115</td>\n",
       "      <td>шины 1 воздушный 1 вкусных 1 эскудо 1 сухого 1...</td>\n",
       "      <td>aee71c8d18d6b91b36bf599208a91777 7 6754d470b22...</td>\n",
       "    </tr>\n",
       "    <tr>\n",
       "      <th>4</th>\n",
       "      <td>223498561</td>\n",
       "      <td>20211204</td>\n",
       "      <td>купить 2 blyudo 2 юрист 2 sekretnye 2 funktsii...</td>\n",
       "      <td>1246f8d1136a114c448c1b2565e16698 2 0f7f6a4507e...</td>\n",
       "    </tr>\n",
       "    <tr>\n",
       "      <th>...</th>\n",
       "      <td>...</td>\n",
       "      <td>...</td>\n",
       "      <td>...</td>\n",
       "      <td>...</td>\n",
       "    </tr>\n",
       "    <tr>\n",
       "      <th>154799</th>\n",
       "      <td>820037931</td>\n",
       "      <td>20220408</td>\n",
       "      <td>материнские 1 hats 1 чёрный 1 деньги 14 бытово...</td>\n",
       "      <td>1889e0cbd3e343e9521a07aa312257ac 1 aee71c8d18d...</td>\n",
       "    </tr>\n",
       "    <tr>\n",
       "      <th>154800</th>\n",
       "      <td>820043321</td>\n",
       "      <td>20220408</td>\n",
       "      <td>кредит 8 служба 2 шаг 2 наличными 10 зубастики...</td>\n",
       "      <td>68d22a2c8d2fa49d80bbfe9edd8845f0 2 69adb4ce9c4...</td>\n",
       "    </tr>\n",
       "    <tr>\n",
       "      <th>154801</th>\n",
       "      <td>820058971</td>\n",
       "      <td>20220409</td>\n",
       "      <td>циан 1 novogodnie 2 результат 1 центр 1 платье...</td>\n",
       "      <td>a51fa12f9f44dde93d7e36e4ae1c4a0f 1 a18bcf54adc...</td>\n",
       "    </tr>\n",
       "    <tr>\n",
       "      <th>154802</th>\n",
       "      <td>820062491</td>\n",
       "      <td>20220409</td>\n",
       "      <td>макаронных 1 mny 1 снять 1 svete 1 платье 1 mn...</td>\n",
       "      <td>aee71c8d18d6b91b36bf599208a91777 122 d3862674d...</td>\n",
       "    </tr>\n",
       "    <tr>\n",
       "      <th>154803</th>\n",
       "      <td>820070481</td>\n",
       "      <td>20220409</td>\n",
       "      <td>займы 1 аккаунта 1 вход 2 деньги 1 дней 1 pass...</td>\n",
       "      <td>e3fbe7c0fa7025de310f7eb52f586efc 1 9881e429edf...</td>\n",
       "    </tr>\n",
       "  </tbody>\n",
       "</table>\n",
       "<p>154804 rows × 4 columns</p>\n",
       "</div>"
      ],
      "text/plain": [
       "        CLIENT_ID  RETRO_DT  \\\n",
       "0         5467000  20200419   \n",
       "1         6093848  20201107   \n",
       "2         5269916  20200305   \n",
       "3       816015821  20220115   \n",
       "4       223498561  20211204   \n",
       "...           ...       ...   \n",
       "154799  820037931  20220408   \n",
       "154800  820043321  20220408   \n",
       "154801  820058971  20220409   \n",
       "154802  820062491  20220409   \n",
       "154803  820070481  20220409   \n",
       "\n",
       "                                                   tokens  \\\n",
       "0       vezet 1 hats 2 сухого 1 деньги 1 режим 4 недел...   \n",
       "1       статью 1 month 4 udobreniya 1 podkormka 1 акту...   \n",
       "2       zdorovye 2 мобильные 1 снять 2 tovara 1 платье...   \n",
       "3       шины 1 воздушный 1 вкусных 1 эскудо 1 сухого 1...   \n",
       "4       купить 2 blyudo 2 юрист 2 sekretnye 2 funktsii...   \n",
       "...                                                   ...   \n",
       "154799  материнские 1 hats 1 чёрный 1 деньги 14 бытово...   \n",
       "154800  кредит 8 служба 2 шаг 2 наличными 10 зубастики...   \n",
       "154801  циан 1 novogodnie 2 результат 1 центр 1 платье...   \n",
       "154802  макаронных 1 mny 1 снять 1 svete 1 платье 1 mn...   \n",
       "154803  займы 1 аккаунта 1 вход 2 деньги 1 дней 1 pass...   \n",
       "\n",
       "                                              urls_hashed  \n",
       "0       4104c0437f707b9f443bf845d92d3633 1 83e85bee0d8...  \n",
       "1       db0853001fff2bbe88cb5fa709d8077e 1 6e617b4bfdb...  \n",
       "2       1889e0cbd3e343e9521a07aa312257ac 2 aee71c8d18d...  \n",
       "3       aee71c8d18d6b91b36bf599208a91777 7 6754d470b22...  \n",
       "4       1246f8d1136a114c448c1b2565e16698 2 0f7f6a4507e...  \n",
       "...                                                   ...  \n",
       "154799  1889e0cbd3e343e9521a07aa312257ac 1 aee71c8d18d...  \n",
       "154800  68d22a2c8d2fa49d80bbfe9edd8845f0 2 69adb4ce9c4...  \n",
       "154801  a51fa12f9f44dde93d7e36e4ae1c4a0f 1 a18bcf54adc...  \n",
       "154802  aee71c8d18d6b91b36bf599208a91777 122 d3862674d...  \n",
       "154803  e3fbe7c0fa7025de310f7eb52f586efc 1 9881e429edf...  \n",
       "\n",
       "[154804 rows x 4 columns]"
      ]
     },
     "execution_count": 95,
     "metadata": {},
     "output_type": "execute_result"
    }
   ],
   "source": [
    "\n",
    "pd.read_csv('data/test', sep='\\t')"
   ]
  },
  {
   "cell_type": "code",
   "execution_count": 96,
   "id": "208d1c21-6e8b-42de-aba4-8cb57f275016",
   "metadata": {},
   "outputs": [
    {
     "data": {
      "text/html": [
       "<div>\n",
       "<style scoped>\n",
       "    .dataframe tbody tr th:only-of-type {\n",
       "        vertical-align: middle;\n",
       "    }\n",
       "\n",
       "    .dataframe tbody tr th {\n",
       "        vertical-align: top;\n",
       "    }\n",
       "\n",
       "    .dataframe thead th {\n",
       "        text-align: right;\n",
       "    }\n",
       "</style>\n",
       "<table border=\"1\" class=\"dataframe\">\n",
       "  <thead>\n",
       "    <tr style=\"text-align: right;\">\n",
       "      <th></th>\n",
       "      <th>CLIENT_ID</th>\n",
       "      <th>RETRO_DT</th>\n",
       "      <th>tokens</th>\n",
       "      <th>urls_hashed</th>\n",
       "    </tr>\n",
       "  </thead>\n",
       "  <tbody>\n",
       "    <tr>\n",
       "      <th>0</th>\n",
       "      <td>5909886</td>\n",
       "      <td>20200911</td>\n",
       "      <td>форм 1 мачеха 1 работы 1 пасынка 1 горячую 1 м...</td>\n",
       "      <td>7bbcc146c0ba4df814701ff7297b2205 1 ee0d49cbc99...</td>\n",
       "    </tr>\n",
       "    <tr>\n",
       "      <th>1</th>\n",
       "      <td>1385448</td>\n",
       "      <td>20210519</td>\n",
       "      <td>platiza 1 мобильные 2 sergej 1 code 3 отказов ...</td>\n",
       "      <td>1889e0cbd3e343e9521a07aa312257ac 2 8253d8d3a67...</td>\n",
       "    </tr>\n",
       "    <tr>\n",
       "      <th>2</th>\n",
       "      <td>1866195</td>\n",
       "      <td>20210913</td>\n",
       "      <td>sims 3 кредит 1 языке 1 разлива 1 огромное 1 о...</td>\n",
       "      <td>6e617b4bfdbef85d8b09ec08ac72f0f2 1 94309f5f116...</td>\n",
       "    </tr>\n",
       "    <tr>\n",
       "      <th>3</th>\n",
       "      <td>1587081</td>\n",
       "      <td>20210702</td>\n",
       "      <td>code 1 историй 1 scf 1 шаг 1 деньги 3 серый 1 ...</td>\n",
       "      <td>1e833434273e04ba76cfcfb4b48ad21b 3 aee71c8d18d...</td>\n",
       "    </tr>\n",
       "    <tr>\n",
       "      <th>4</th>\n",
       "      <td>1400908</td>\n",
       "      <td>20210522</td>\n",
       "      <td>отказов 2 tovara 1 сергея 1 купальный 1 чёрный...</td>\n",
       "      <td>83e85bee0d81c0e9e5047e202cddf534 3 6e617b4bfdb...</td>\n",
       "    </tr>\n",
       "    <tr>\n",
       "      <th>...</th>\n",
       "      <td>...</td>\n",
       "      <td>...</td>\n",
       "      <td>...</td>\n",
       "      <td>...</td>\n",
       "    </tr>\n",
       "    <tr>\n",
       "      <th>1995</th>\n",
       "      <td>1486477</td>\n",
       "      <td>20210610</td>\n",
       "      <td>проходите 4 возвращаются 2 отказов 14 storonu ...</td>\n",
       "      <td>1889e0cbd3e343e9521a07aa312257ac 4 aee71c8d18d...</td>\n",
       "    </tr>\n",
       "    <tr>\n",
       "      <th>1996</th>\n",
       "      <td>1136664</td>\n",
       "      <td>20210312</td>\n",
       "      <td>кредит 2 отказов 1 forget 2 информация 1 money...</td>\n",
       "      <td>69adb4ce9c4b9a38f3ffa6adecaba2a2 2 aee71c8d18d...</td>\n",
       "    </tr>\n",
       "    <tr>\n",
       "      <th>1997</th>\n",
       "      <td>5612347</td>\n",
       "      <td>20200529</td>\n",
       "      <td>мобильные 2 шины 2 устройств 4 analiz 2 космет...</td>\n",
       "      <td>7f64b671da81082c4682e223303c885d 2 aee71c8d18d...</td>\n",
       "    </tr>\n",
       "    <tr>\n",
       "      <th>1998</th>\n",
       "      <td>1480802</td>\n",
       "      <td>20210609</td>\n",
       "      <td>клубники 1 конфетки 1 косметика 1 ptits 3 экст...</td>\n",
       "      <td>66fe0cd72631c07cb95ac1fcccd4870a 2 4e3004530a5...</td>\n",
       "    </tr>\n",
       "    <tr>\n",
       "      <th>1999</th>\n",
       "      <td>5090353</td>\n",
       "      <td>20200126</td>\n",
       "      <td>кредит 1 драже 1 бот 1 дону 1 распродаже 1 бес...</td>\n",
       "      <td>22a42ca2c39310d4fce878029bcdb539 1 5c2abf838eb...</td>\n",
       "    </tr>\n",
       "  </tbody>\n",
       "</table>\n",
       "<p>8000 rows × 4 columns</p>\n",
       "</div>"
      ],
      "text/plain": [
       "      CLIENT_ID  RETRO_DT                                             tokens  \\\n",
       "0       5909886  20200911  форм 1 мачеха 1 работы 1 пасынка 1 горячую 1 м...   \n",
       "1       1385448  20210519  platiza 1 мобильные 2 sergej 1 code 3 отказов ...   \n",
       "2       1866195  20210913  sims 3 кредит 1 языке 1 разлива 1 огромное 1 о...   \n",
       "3       1587081  20210702  code 1 историй 1 scf 1 шаг 1 деньги 3 серый 1 ...   \n",
       "4       1400908  20210522  отказов 2 tovara 1 сергея 1 купальный 1 чёрный...   \n",
       "...         ...       ...                                                ...   \n",
       "1995    1486477  20210610  проходите 4 возвращаются 2 отказов 14 storonu ...   \n",
       "1996    1136664  20210312  кредит 2 отказов 1 forget 2 информация 1 money...   \n",
       "1997    5612347  20200529  мобильные 2 шины 2 устройств 4 analiz 2 космет...   \n",
       "1998    1480802  20210609  клубники 1 конфетки 1 косметика 1 ptits 3 экст...   \n",
       "1999    5090353  20200126  кредит 1 драже 1 бот 1 дону 1 распродаже 1 бес...   \n",
       "\n",
       "                                            urls_hashed  \n",
       "0     7bbcc146c0ba4df814701ff7297b2205 1 ee0d49cbc99...  \n",
       "1     1889e0cbd3e343e9521a07aa312257ac 2 8253d8d3a67...  \n",
       "2     6e617b4bfdbef85d8b09ec08ac72f0f2 1 94309f5f116...  \n",
       "3     1e833434273e04ba76cfcfb4b48ad21b 3 aee71c8d18d...  \n",
       "4     83e85bee0d81c0e9e5047e202cddf534 3 6e617b4bfdb...  \n",
       "...                                                 ...  \n",
       "1995  1889e0cbd3e343e9521a07aa312257ac 4 aee71c8d18d...  \n",
       "1996  69adb4ce9c4b9a38f3ffa6adecaba2a2 2 aee71c8d18d...  \n",
       "1997  7f64b671da81082c4682e223303c885d 2 aee71c8d18d...  \n",
       "1998  66fe0cd72631c07cb95ac1fcccd4870a 2 4e3004530a5...  \n",
       "1999  22a42ca2c39310d4fce878029bcdb539 1 5c2abf838eb...  \n",
       "\n",
       "[8000 rows x 4 columns]"
      ]
     },
     "execution_count": 96,
     "metadata": {},
     "output_type": "execute_result"
    }
   ],
   "source": [
    "train_test = pd.concat([train[:6000], test[:2000]], axis=0)\n",
    "train_test = train_test.drop(columns=['DEF'])\n",
    "train_test"
   ]
  },
  {
   "cell_type": "code",
   "execution_count": 97,
   "id": "a352839e-27e3-4515-8934-e66df0a30c96",
   "metadata": {},
   "outputs": [],
   "source": [
    "train_test = train_test.dropna()\n"
   ]
  },
  {
   "cell_type": "code",
   "execution_count": 98,
   "id": "376ba598-1697-42ed-b14b-b8b89f8b2567",
   "metadata": {},
   "outputs": [],
   "source": [
    "tokens = train_test.tokens"
   ]
  },
  {
   "cell_type": "code",
   "execution_count": 100,
   "id": "c373bd46-6f85-47dc-b13d-b3dd0ea0f1a6",
   "metadata": {},
   "outputs": [
    {
     "data": {
      "text/plain": [
       "[['видео', 'смотреть', 'video', 'порно', 'секс'],\n",
       " ['займы'],\n",
       " ['завтра', 'смотреть', 'телеканала', 'channel', 'программа', 'saratov'],\n",
       " ['займ'],\n",
       " ['embed'],\n",
       " ['смотреть'],\n",
       " ['embed'],\n",
       " ['бесплатно'],\n",
       " ['займы'],\n",
       " ['москве', 'работа']]"
      ]
     },
     "execution_count": 100,
     "metadata": {},
     "output_type": "execute_result"
    }
   ],
   "source": [
    "tokens = train_test.tokens\n",
    "token_words = []\n",
    "\n",
    "for user in tokens:\n",
    "    maxima = 0\n",
    "    users_data = user.split(\" \")\n",
    "    one_user_data = []\n",
    "    #print(users_data)\n",
    "    for i in range(0, len(users_data) - 1, 2):\n",
    "        if (int(users_data[i+1]) > maxima):\n",
    "            maxima = int(users_data[i+1])\n",
    "            one_user_data = []\n",
    "            one_user_data.append(users_data[i])\n",
    "            #print(one_user_data)\n",
    "        elif (int(users_data[i+1]) == maxima):\n",
    "            one_user_data.append(users_data[i])\n",
    "        else:\n",
    "            pass\n",
    "    token_words.append(one_user_data)\n",
    "    #print(token_words)\n",
    "\n",
    "token_words[:10]\n",
    "        \n",
    "\n",
    "\n"
   ]
  },
  {
   "cell_type": "code",
   "execution_count": 101,
   "id": "ac877794-d225-4246-b744-68ce989be194",
   "metadata": {},
   "outputs": [],
   "source": [
    "#нам нужна колонка со списком оставшихся слов без чисел\n",
    "#CBOW is used when sg=0\n",
    "w2v_tokens = Word2Vec(token_words, vector_size=100, sg=0, window=5, min_count=8)"
   ]
  },
  {
   "cell_type": "code",
   "execution_count": 102,
   "id": "03622486-5a10-41b6-a53f-484cb05bb749",
   "metadata": {},
   "outputs": [],
   "source": [
    "def find_vec_tokens(X_train):\n",
    "    vec = np.zeros(100)\n",
    "    counter = -1\n",
    "    try:\n",
    "        for i in X_train.split():\n",
    "            counter += 1\n",
    "            if i in token_words and counter%2 == 0:\n",
    "                #print(i)\n",
    "                vec += w2v_tokens.wv.get_vector(i)\n",
    "        else:\n",
    "            pass\n",
    "    except Exception:\n",
    "        print(i)\n",
    "    return vec"
   ]
  },
  {
   "cell_type": "code",
   "execution_count": 103,
   "id": "0c1aba57-4e6b-474f-9914-183a29a1d52a",
   "metadata": {},
   "outputs": [],
   "source": [
    "vec_tokens = train_test['tokens'].apply(find_vec_tokens)\n",
    "#print(vec.head())\n",
    "#title_data = pd.DataFrame.from_records(title_vec.values, index = title_vec.index)\n",
    "vec_tokens_data = pd.DataFrame.from_records(vec_tokens.values, index = vec_tokens.index)\n",
    "#res = pd.concat([X_train, title_data], axis = 1, sort = False)\n",
    "res_tokens = pd.concat([train_test, vec_tokens_data], axis = 1, sort = False)"
   ]
  },
  {
   "cell_type": "code",
   "execution_count": 104,
   "id": "4e9bea2e-404e-45c7-b57b-0323f10e8e00",
   "metadata": {},
   "outputs": [],
   "source": [
    "seq = np.load('data/sequences.npy', allow_pickle=True)\n",
    "seq = list(seq)[:6000]+list(seq)[:2000]\n"
   ]
  },
  {
   "cell_type": "code",
   "execution_count": 105,
   "id": "38886159-ee0b-4764-8c86-b353473e5cc9",
   "metadata": {},
   "outputs": [],
   "source": [
    "#нам нужна колонка со списком оставшихся слов без букв\n",
    "#seq_text = [sent.split() for sent in seq]\n",
    "#print(matrix_text)\n",
    "#CBOW is used when sg=0\n",
    "w2v_hashes = Word2Vec(seq, vector_size=100, sg=0, window=5)"
   ]
  },
  {
   "cell_type": "code",
   "execution_count": 106,
   "id": "206ef04b-ddbc-4e74-93c9-4c4b3e4b596c",
   "metadata": {},
   "outputs": [
    {
     "data": {
      "text/plain": [
       "['dfe3caaa3affe8ad92a7603ea454bcba',\n",
       " 'e1ce545b1d7e0e41aae1f790e7be26c0',\n",
       " '7a841cfb78136d5bbaef80e38e7780f5',\n",
       " '4ca77752142277b1d67a6747845a7b7f',\n",
       " 'e1c8b6074849a58cf1f20a4eee8e99a9',\n",
       " '77fb4daef0b75915c1e4f0c1fdbf8136',\n",
       " '69edacc7f0fbda42a730067d6b9d76f2',\n",
       " '3e78996cc30118fdde88a31d5ea8fe84',\n",
       " '0028c3b68113a97ccf75351d44d647cd',\n",
       " '8e00e03ea21e3e99aec3a677feb03f60']"
      ]
     },
     "execution_count": 106,
     "metadata": {},
     "output_type": "execute_result"
    }
   ],
   "source": [
    "hash_words = list(w2v_hashes.wv.index_to_key)\n",
    "hash_words[:10]"
   ]
  },
  {
   "cell_type": "code",
   "execution_count": 107,
   "id": "a5620ed6-9279-4314-8159-71d1ff7bfcbb",
   "metadata": {},
   "outputs": [
    {
     "data": {
      "text/plain": [
       "[['видео', 'смотреть', 'video', 'порно', 'секс'],\n",
       " ['займы'],\n",
       " ['завтра', 'смотреть', 'телеканала', 'channel', 'программа', 'saratov'],\n",
       " ['займ'],\n",
       " ['embed'],\n",
       " ['смотреть'],\n",
       " ['embed'],\n",
       " ['бесплатно'],\n",
       " ['займы'],\n",
       " ['москве', 'работа']]"
      ]
     },
     "execution_count": 107,
     "metadata": {},
     "output_type": "execute_result"
    }
   ],
   "source": [
    "token_words[:10]"
   ]
  },
  {
   "cell_type": "code",
   "execution_count": 108,
   "id": "f1010df3-2373-4e22-964a-fbb4d7cea0c3",
   "metadata": {},
   "outputs": [],
   "source": [
    "def find_vec_hashes(X_train):\n",
    "    vec = np.zeros(100)\n",
    "    counter = -1\n",
    "    try:\n",
    "        for i in X_train.split():\n",
    "            counter += 1\n",
    "            if i in hash_words and counter%2 == 0:\n",
    "                #print(i)\n",
    "                #print(w2v_hashes.wv.get_vector(i))\n",
    "                vec += w2v_hashes.wv.get_vector(i)\n",
    "            else:\n",
    "                pass\n",
    "    except Exception:\n",
    "        print(i)\n",
    "    #print(vec)\n",
    "    return vec"
   ]
  },
  {
   "cell_type": "code",
   "execution_count": 109,
   "id": "558934bf-87dd-402e-9033-53c3341f6a7b",
   "metadata": {},
   "outputs": [
    {
     "name": "stdout",
     "output_type": "stream",
     "text": [
      "0    [-3.162035869434476, 5.009779177606106, 1.0982...\n",
      "1    [-8.319378468440846, 13.470709016546607, 3.077...\n",
      "2    [-4.803398479707539, 7.642986696213484, 1.6128...\n",
      "3    [-2.3360181886237115, 4.078171670436859, 0.868...\n",
      "4    [-21.861895109526813, 31.650683070532978, 8.24...\n",
      "Name: urls_hashed, dtype: object\n"
     ]
    }
   ],
   "source": [
    "vec_hashes = train_test['urls_hashed'].apply(find_vec_hashes)\n",
    "print(vec_hashes.head())\n"
   ]
  },
  {
   "cell_type": "code",
   "execution_count": 110,
   "id": "c9de01dd-3625-45b8-ad29-417341e01adf",
   "metadata": {},
   "outputs": [],
   "source": [
    "#title_data = pd.DataFrame.from_records(title_vec.values, index = title_vec.index)\n",
    "vec_hashes_data = pd.DataFrame.from_records(vec_hashes.values, index = vec_hashes.index)\n",
    "#res = pd.concat([X_train, title_data], axis = 1, sort = False)\n",
    "res_hashes = pd.concat([res_tokens, vec_hashes_data], axis = 1, sort = False)"
   ]
  },
  {
   "cell_type": "code",
   "execution_count": null,
   "id": "d02ed83a-8359-4e13-a8da-fb3d9ef8feef",
   "metadata": {},
   "outputs": [],
   "source": [
    "res_hashes"
   ]
  },
  {
   "cell_type": "code",
   "execution_count": null,
   "id": "9f63b8dd-0337-4128-8f2d-bfb70acd081a",
   "metadata": {},
   "outputs": [],
   "source": [
    "res_hashes[:20000].drop(columns=['tokens', 'urls_hashed', 'CLIENT_ID', 'RETRO_DT']).to_csv('data/df_with_seq.csv')\n",
    "res_hashes"
   ]
  },
  {
   "cell_type": "code",
   "execution_count": 111,
   "id": "06d5d62f-02bd-47be-9b0a-08355e1125c4",
   "metadata": {},
   "outputs": [
    {
     "ename": "UnboundLocalError",
     "evalue": "local variable 'i' referenced before assignment",
     "output_type": "error",
     "traceback": [
      "\u001b[0;31m---------------------------------------------------------------------------\u001b[0m",
      "\u001b[0;31mAttributeError\u001b[0m                            Traceback (most recent call last)",
      "Input \u001b[0;32mIn [108]\u001b[0m, in \u001b[0;36mfind_vec_hashes\u001b[0;34m(X_train)\u001b[0m\n\u001b[1;32m      4\u001b[0m \u001b[38;5;28;01mtry\u001b[39;00m:\n\u001b[0;32m----> 5\u001b[0m     \u001b[38;5;28;01mfor\u001b[39;00m i \u001b[38;5;129;01min\u001b[39;00m \u001b[43mX_train\u001b[49m\u001b[38;5;241;43m.\u001b[39;49m\u001b[43msplit\u001b[49m():\n\u001b[1;32m      6\u001b[0m         counter \u001b[38;5;241m+\u001b[39m\u001b[38;5;241m=\u001b[39m \u001b[38;5;241m1\u001b[39m\n",
      "\u001b[0;31mAttributeError\u001b[0m: 'float' object has no attribute 'split'",
      "\nDuring handling of the above exception, another exception occurred:\n",
      "\u001b[0;31mUnboundLocalError\u001b[0m                         Traceback (most recent call last)",
      "Input \u001b[0;32mIn [111]\u001b[0m, in \u001b[0;36m<cell line: 1>\u001b[0;34m()\u001b[0m\n\u001b[0;32m----> 1\u001b[0m vec_hashes_test \u001b[38;5;241m=\u001b[39m \u001b[43mtest\u001b[49m\u001b[43m[\u001b[49m\u001b[38;5;124;43m'\u001b[39;49m\u001b[38;5;124;43murls_hashed\u001b[39;49m\u001b[38;5;124;43m'\u001b[39;49m\u001b[43m]\u001b[49m\u001b[43m[\u001b[49m\u001b[43m:\u001b[49m\u001b[38;5;241;43m9000\u001b[39;49m\u001b[43m]\u001b[49m\u001b[38;5;241;43m.\u001b[39;49m\u001b[43mapply\u001b[49m\u001b[43m(\u001b[49m\u001b[43mfind_vec_hashes\u001b[49m\u001b[43m)\u001b[49m\n\u001b[1;32m      2\u001b[0m vec_hashes_test_data \u001b[38;5;241m=\u001b[39m pd\u001b[38;5;241m.\u001b[39mDataFrame\u001b[38;5;241m.\u001b[39mfrom_records(vec_hashes_test\u001b[38;5;241m.\u001b[39mvalues, index \u001b[38;5;241m=\u001b[39m vec_hashes\u001b[38;5;241m.\u001b[39mindex)\n\u001b[1;32m      3\u001b[0m \u001b[38;5;66;03m#res = pd.concat([X_train, title_data], axis = 1, sort = False)\u001b[39;00m\n",
      "File \u001b[0;32m/opt/tljh/user/lib/python3.9/site-packages/pandas/core/series.py:4433\u001b[0m, in \u001b[0;36mSeries.apply\u001b[0;34m(self, func, convert_dtype, args, **kwargs)\u001b[0m\n\u001b[1;32m   4323\u001b[0m \u001b[38;5;28;01mdef\u001b[39;00m \u001b[38;5;21mapply\u001b[39m(\n\u001b[1;32m   4324\u001b[0m     \u001b[38;5;28mself\u001b[39m,\n\u001b[1;32m   4325\u001b[0m     func: AggFuncType,\n\u001b[0;32m   (...)\u001b[0m\n\u001b[1;32m   4328\u001b[0m     \u001b[38;5;241m*\u001b[39m\u001b[38;5;241m*\u001b[39mkwargs,\n\u001b[1;32m   4329\u001b[0m ) \u001b[38;5;241m-\u001b[39m\u001b[38;5;241m>\u001b[39m DataFrame \u001b[38;5;241m|\u001b[39m Series:\n\u001b[1;32m   4330\u001b[0m     \u001b[38;5;124;03m\"\"\"\u001b[39;00m\n\u001b[1;32m   4331\u001b[0m \u001b[38;5;124;03m    Invoke function on values of Series.\u001b[39;00m\n\u001b[1;32m   4332\u001b[0m \n\u001b[0;32m   (...)\u001b[0m\n\u001b[1;32m   4431\u001b[0m \u001b[38;5;124;03m    dtype: float64\u001b[39;00m\n\u001b[1;32m   4432\u001b[0m \u001b[38;5;124;03m    \"\"\"\u001b[39;00m\n\u001b[0;32m-> 4433\u001b[0m     \u001b[38;5;28;01mreturn\u001b[39;00m \u001b[43mSeriesApply\u001b[49m\u001b[43m(\u001b[49m\u001b[38;5;28;43mself\u001b[39;49m\u001b[43m,\u001b[49m\u001b[43m \u001b[49m\u001b[43mfunc\u001b[49m\u001b[43m,\u001b[49m\u001b[43m \u001b[49m\u001b[43mconvert_dtype\u001b[49m\u001b[43m,\u001b[49m\u001b[43m \u001b[49m\u001b[43margs\u001b[49m\u001b[43m,\u001b[49m\u001b[43m \u001b[49m\u001b[43mkwargs\u001b[49m\u001b[43m)\u001b[49m\u001b[38;5;241;43m.\u001b[39;49m\u001b[43mapply\u001b[49m\u001b[43m(\u001b[49m\u001b[43m)\u001b[49m\n",
      "File \u001b[0;32m/opt/tljh/user/lib/python3.9/site-packages/pandas/core/apply.py:1088\u001b[0m, in \u001b[0;36mSeriesApply.apply\u001b[0;34m(self)\u001b[0m\n\u001b[1;32m   1084\u001b[0m \u001b[38;5;28;01mif\u001b[39;00m \u001b[38;5;28misinstance\u001b[39m(\u001b[38;5;28mself\u001b[39m\u001b[38;5;241m.\u001b[39mf, \u001b[38;5;28mstr\u001b[39m):\n\u001b[1;32m   1085\u001b[0m     \u001b[38;5;66;03m# if we are a string, try to dispatch\u001b[39;00m\n\u001b[1;32m   1086\u001b[0m     \u001b[38;5;28;01mreturn\u001b[39;00m \u001b[38;5;28mself\u001b[39m\u001b[38;5;241m.\u001b[39mapply_str()\n\u001b[0;32m-> 1088\u001b[0m \u001b[38;5;28;01mreturn\u001b[39;00m \u001b[38;5;28;43mself\u001b[39;49m\u001b[38;5;241;43m.\u001b[39;49m\u001b[43mapply_standard\u001b[49m\u001b[43m(\u001b[49m\u001b[43m)\u001b[49m\n",
      "File \u001b[0;32m/opt/tljh/user/lib/python3.9/site-packages/pandas/core/apply.py:1143\u001b[0m, in \u001b[0;36mSeriesApply.apply_standard\u001b[0;34m(self)\u001b[0m\n\u001b[1;32m   1137\u001b[0m         values \u001b[38;5;241m=\u001b[39m obj\u001b[38;5;241m.\u001b[39mastype(\u001b[38;5;28mobject\u001b[39m)\u001b[38;5;241m.\u001b[39m_values\n\u001b[1;32m   1138\u001b[0m         \u001b[38;5;66;03m# error: Argument 2 to \"map_infer\" has incompatible type\u001b[39;00m\n\u001b[1;32m   1139\u001b[0m         \u001b[38;5;66;03m# \"Union[Callable[..., Any], str, List[Union[Callable[..., Any], str]],\u001b[39;00m\n\u001b[1;32m   1140\u001b[0m         \u001b[38;5;66;03m# Dict[Hashable, Union[Union[Callable[..., Any], str],\u001b[39;00m\n\u001b[1;32m   1141\u001b[0m         \u001b[38;5;66;03m# List[Union[Callable[..., Any], str]]]]]\"; expected\u001b[39;00m\n\u001b[1;32m   1142\u001b[0m         \u001b[38;5;66;03m# \"Callable[[Any], Any]\"\u001b[39;00m\n\u001b[0;32m-> 1143\u001b[0m         mapped \u001b[38;5;241m=\u001b[39m \u001b[43mlib\u001b[49m\u001b[38;5;241;43m.\u001b[39;49m\u001b[43mmap_infer\u001b[49m\u001b[43m(\u001b[49m\n\u001b[1;32m   1144\u001b[0m \u001b[43m            \u001b[49m\u001b[43mvalues\u001b[49m\u001b[43m,\u001b[49m\n\u001b[1;32m   1145\u001b[0m \u001b[43m            \u001b[49m\u001b[43mf\u001b[49m\u001b[43m,\u001b[49m\u001b[43m  \u001b[49m\u001b[38;5;66;43;03m# type: ignore[arg-type]\u001b[39;49;00m\n\u001b[1;32m   1146\u001b[0m \u001b[43m            \u001b[49m\u001b[43mconvert\u001b[49m\u001b[38;5;241;43m=\u001b[39;49m\u001b[38;5;28;43mself\u001b[39;49m\u001b[38;5;241;43m.\u001b[39;49m\u001b[43mconvert_dtype\u001b[49m\u001b[43m,\u001b[49m\n\u001b[1;32m   1147\u001b[0m \u001b[43m        \u001b[49m\u001b[43m)\u001b[49m\n\u001b[1;32m   1149\u001b[0m \u001b[38;5;28;01mif\u001b[39;00m \u001b[38;5;28mlen\u001b[39m(mapped) \u001b[38;5;129;01mand\u001b[39;00m \u001b[38;5;28misinstance\u001b[39m(mapped[\u001b[38;5;241m0\u001b[39m], ABCSeries):\n\u001b[1;32m   1150\u001b[0m     \u001b[38;5;66;03m# GH#43986 Need to do list(mapped) in order to get treated as nested\u001b[39;00m\n\u001b[1;32m   1151\u001b[0m     \u001b[38;5;66;03m#  See also GH#25959 regarding EA support\u001b[39;00m\n\u001b[1;32m   1152\u001b[0m     \u001b[38;5;28;01mreturn\u001b[39;00m obj\u001b[38;5;241m.\u001b[39m_constructor_expanddim(\u001b[38;5;28mlist\u001b[39m(mapped), index\u001b[38;5;241m=\u001b[39mobj\u001b[38;5;241m.\u001b[39mindex)\n",
      "File \u001b[0;32m/opt/tljh/user/lib/python3.9/site-packages/pandas/_libs/lib.pyx:2870\u001b[0m, in \u001b[0;36mpandas._libs.lib.map_infer\u001b[0;34m()\u001b[0m\n",
      "Input \u001b[0;32mIn [108]\u001b[0m, in \u001b[0;36mfind_vec_hashes\u001b[0;34m(X_train)\u001b[0m\n\u001b[1;32m     12\u001b[0m             \u001b[38;5;28;01mpass\u001b[39;00m\n\u001b[1;32m     13\u001b[0m \u001b[38;5;28;01mexcept\u001b[39;00m \u001b[38;5;167;01mException\u001b[39;00m:\n\u001b[0;32m---> 14\u001b[0m     \u001b[38;5;28mprint\u001b[39m(\u001b[43mi\u001b[49m)\n\u001b[1;32m     15\u001b[0m \u001b[38;5;66;03m#print(vec)\u001b[39;00m\n\u001b[1;32m     16\u001b[0m \u001b[38;5;28;01mreturn\u001b[39;00m vec\n",
      "\u001b[0;31mUnboundLocalError\u001b[0m: local variable 'i' referenced before assignment"
     ]
    }
   ],
   "source": [
    "vec_hashes_test = test['urls_hashed'][:9000].apply(find_vec_hashes)\n",
    "vec_hashes_test_data = pd.DataFrame.from_records(vec_hashes_test.values, index = vec_hashes_test.index)\n",
    "#res = pd.concat([X_train, title_data], axis = 1, sort = False)\n",
    "res_hashes_test = pd.concat([test[:9000], vec_hashes_test_data], axis = 1, sort = False)\n"
   ]
  },
  {
   "cell_type": "code",
   "execution_count": null,
   "id": "6d16ac61-e872-46e4-bd7d-157bb23540e7",
   "metadata": {},
   "outputs": [],
   "source": [
    "vec_tokens_test = train_test['tokens'].apply(find_vec_tokens)\n",
    "#print(vec.head())\n",
    "#title_data = pd.DataFrame.from_records(title_vec.values, index = title_vec.index)\n",
    "vec_tokens_test_data = pd.DataFrame.from_records(vec_tokens_test.values, index = vec_tokens_test.index)\n",
    "#res = pd.concat([X_train, title_data], axis = 1, sort = False)\n",
    "res_tokens_test = pd.concat([res_hashes_test, vec_tokens_test_data], axis = 1, sort = False)"
   ]
  },
  {
   "cell_type": "code",
   "execution_count": null,
   "id": "042bfdfc-777c-41a0-96ea-c06b09c07a4b",
   "metadata": {},
   "outputs": [],
   "source": []
  }
 ],
 "metadata": {
  "kernelspec": {
   "display_name": "Python 3 (ipykernel)",
   "language": "python",
   "name": "python3"
  },
  "language_info": {
   "codemirror_mode": {
    "name": "ipython",
    "version": 3
   },
   "file_extension": ".py",
   "mimetype": "text/x-python",
   "name": "python",
   "nbconvert_exporter": "python",
   "pygments_lexer": "ipython3",
   "version": "3.9.7"
  }
 },
 "nbformat": 4,
 "nbformat_minor": 5
}
