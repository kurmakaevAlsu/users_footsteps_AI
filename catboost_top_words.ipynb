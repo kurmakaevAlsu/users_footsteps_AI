{
  "cells": [
    {
      "cell_type": "code",
      "execution_count": 1,
      "id": "0749c316-efdd-4e8f-9110-e49a9aed21e1",
      "metadata": {
        "id": "0749c316-efdd-4e8f-9110-e49a9aed21e1"
      },
      "outputs": [],
      "source": [
        "import pandas as pd\n",
        "import numpy as np\n",
        "from sklearn import *\n",
        "from sklearn.model_selection import train_test_split"
      ]
    },
    {
      "cell_type": "code",
      "source": [
        "from google.colab import drive\n",
        "drive.mount('/content/drive')"
      ],
      "metadata": {
        "colab": {
          "base_uri": "https://localhost:8080/"
        },
        "id": "yMqL0P7JLnyy",
        "outputId": "adf70c93-6e19-4908-d3d8-689373ab8258"
      },
      "id": "yMqL0P7JLnyy",
      "execution_count": 2,
      "outputs": [
        {
          "output_type": "stream",
          "name": "stdout",
          "text": [
            "Mounted at /content/drive\n"
          ]
        }
      ]
    },
    {
      "cell_type": "code",
      "source": [
        "data1 = pd.read_csv('/content/drive/My Drive/hack_vk/top_words20k.csv')"
      ],
      "metadata": {
        "id": "8ys-InTKLp-D"
      },
      "id": "8ys-InTKLp-D",
      "execution_count": 3,
      "outputs": []
    },
    {
      "cell_type": "code",
      "execution_count": 4,
      "id": "7a2716a2-8032-4d48-b252-b3d12235e2e1",
      "metadata": {
        "colab": {
          "base_uri": "https://localhost:8080/"
        },
        "id": "7a2716a2-8032-4d48-b252-b3d12235e2e1",
        "outputId": "b866ee79-d8ec-411d-a821-08312068633f"
      },
      "outputs": [
        {
          "output_type": "stream",
          "name": "stdout",
          "text": [
            "Looking in indexes: https://pypi.org/simple, https://us-python.pkg.dev/colab-wheels/public/simple/\n",
            "Collecting catboost\n",
            "  Downloading catboost-1.0.6-cp37-none-manylinux1_x86_64.whl (76.6 MB)\n",
            "\u001b[K     |████████████████████████████████| 76.6 MB 169 kB/s \n",
            "\u001b[?25hRequirement already satisfied: numpy>=1.16.0 in /usr/local/lib/python3.7/dist-packages (from catboost) (1.21.6)\n",
            "Requirement already satisfied: pandas>=0.24.0 in /usr/local/lib/python3.7/dist-packages (from catboost) (1.3.5)\n",
            "Requirement already satisfied: six in /usr/local/lib/python3.7/dist-packages (from catboost) (1.15.0)\n",
            "Requirement already satisfied: plotly in /usr/local/lib/python3.7/dist-packages (from catboost) (5.5.0)\n",
            "Requirement already satisfied: matplotlib in /usr/local/lib/python3.7/dist-packages (from catboost) (3.2.2)\n",
            "Requirement already satisfied: scipy in /usr/local/lib/python3.7/dist-packages (from catboost) (1.7.3)\n",
            "Requirement already satisfied: graphviz in /usr/local/lib/python3.7/dist-packages (from catboost) (0.10.1)\n",
            "Requirement already satisfied: pytz>=2017.3 in /usr/local/lib/python3.7/dist-packages (from pandas>=0.24.0->catboost) (2022.2.1)\n",
            "Requirement already satisfied: python-dateutil>=2.7.3 in /usr/local/lib/python3.7/dist-packages (from pandas>=0.24.0->catboost) (2.8.2)\n",
            "Requirement already satisfied: pyparsing!=2.0.4,!=2.1.2,!=2.1.6,>=2.0.1 in /usr/local/lib/python3.7/dist-packages (from matplotlib->catboost) (3.0.9)\n",
            "Requirement already satisfied: kiwisolver>=1.0.1 in /usr/local/lib/python3.7/dist-packages (from matplotlib->catboost) (1.4.4)\n",
            "Requirement already satisfied: cycler>=0.10 in /usr/local/lib/python3.7/dist-packages (from matplotlib->catboost) (0.11.0)\n",
            "Requirement already satisfied: typing-extensions in /usr/local/lib/python3.7/dist-packages (from kiwisolver>=1.0.1->matplotlib->catboost) (4.1.1)\n",
            "Requirement already satisfied: tenacity>=6.2.0 in /usr/local/lib/python3.7/dist-packages (from plotly->catboost) (8.0.1)\n",
            "Installing collected packages: catboost\n",
            "Successfully installed catboost-1.0.6\n"
          ]
        }
      ],
      "source": [
        "%pip install catboost\n"
      ]
    },
    {
      "cell_type": "code",
      "execution_count": 5,
      "id": "3fb14afc-c92c-46cd-8a6b-eb89ec502377",
      "metadata": {
        "id": "3fb14afc-c92c-46cd-8a6b-eb89ec502377"
      },
      "outputs": [],
      "source": [
        "from catboost import CatBoostClassifier"
      ]
    },
    {
      "cell_type": "code",
      "execution_count": 6,
      "id": "c41b070a-6046-40e8-8de9-57101c1b618a",
      "metadata": {
        "colab": {
          "base_uri": "https://localhost:8080/"
        },
        "id": "c41b070a-6046-40e8-8de9-57101c1b618a",
        "outputId": "a6f5aa93-61f1-4de8-c912-ca3468591118"
      },
      "outputs": [
        {
          "output_type": "execute_result",
          "data": {
            "text/plain": [
              "Unnamed: 0    0\n",
              "CLIENT_ID     0\n",
              "RETRO_DT      0\n",
              "tokens        0\n",
              "DEF           0\n",
              "             ..\n",
              "kredity       0\n",
              "низкой        0\n",
              "сбербанк      0\n",
              "bank          0\n",
              "vacancy       0\n",
              "Length: 106, dtype: int64"
            ]
          },
          "metadata": {},
          "execution_count": 6
        }
      ],
      "source": [
        "data1.isnull().sum()"
      ]
    },
    {
      "cell_type": "code",
      "source": [
        "df = data1[0:20000]"
      ],
      "metadata": {
        "id": "TKQAqm_hMzJB"
      },
      "id": "TKQAqm_hMzJB",
      "execution_count": 7,
      "outputs": []
    },
    {
      "cell_type": "code",
      "source": [
        "df"
      ],
      "metadata": {
        "colab": {
          "base_uri": "https://localhost:8080/",
          "height": 1000
        },
        "id": "7tzCvAtCM3OM",
        "outputId": "a622e5e3-7a2c-4d56-c6c6-d3723bc839af"
      },
      "id": "7tzCvAtCM3OM",
      "execution_count": 8,
      "outputs": [
        {
          "output_type": "execute_result",
          "data": {
            "text/plain": [
              "       Unnamed: 0  CLIENT_ID  RETRO_DT  \\\n",
              "0               0    5909886  20200911   \n",
              "1               1    1385448  20210519   \n",
              "2               2    1866195  20210913   \n",
              "3               3    1587081  20210702   \n",
              "4               4    1400908  20210522   \n",
              "...           ...        ...       ...   \n",
              "19995       20056    1424075  20210528   \n",
              "19996       20057    1135996  20210312   \n",
              "19997       20058    1396303  20210521   \n",
              "19998       20059    5720156  20200708   \n",
              "19999       20060  220116871  20210923   \n",
              "\n",
              "                                                  tokens  DEF  \\\n",
              "0      форм 1 мачеха 1 работы 1 пасынка 1 горячую 1 м...    0   \n",
              "1      platiza 1 мобильные 2 sergej 1 code 3 отказов ...    1   \n",
              "2      sims 3 кредит 1 языке 1 разлива 1 огромное 1 о...    0   \n",
              "3      code 1 историй 1 scf 1 шаг 1 деньги 3 серый 1 ...    0   \n",
              "4      отказов 2 tovara 1 сергея 1 купальный 1 чёрный...    0   \n",
              "...                                                  ...  ...   \n",
              "19995  циан 3 эксперт 1 спутника 2 udalit 1 byvshego ...    0   \n",
              "19996  циан 1 слепой 1 комедия 1 dist 2 февраль 1 вар...    0   \n",
              "19997  кредит 1 займы 1 годовых 1 ставкой 1 отп 1 низ...    0   \n",
              "19998  кредит 1 акционерное 1 selection 1 телевизор 1...    0   \n",
              "19999  кредит 2 выгодной 1 новинки 1 устройств 1 feed...    0   \n",
              "\n",
              "                                             urls_hashed  деньги  бесплатно  \\\n",
              "0      7bbcc146c0ba4df814701ff7297b2205 1 ee0d49cbc99...       0          1   \n",
              "1      1889e0cbd3e343e9521a07aa312257ac 2 8253d8d3a67...      16         10   \n",
              "2      6e617b4bfdbef85d8b09ec08ac72f0f2 1 94309f5f116...       0          1   \n",
              "3      1e833434273e04ba76cfcfb4b48ad21b 3 aee71c8d18d...       3          2   \n",
              "4      83e85bee0d81c0e9e5047e202cddf534 3 6e617b4bfdb...       9         26   \n",
              "...                                                  ...     ...        ...   \n",
              "19995  aee71c8d18d6b91b36bf599208a91777 12 088f2ea438...       0          0   \n",
              "19996  855a8bc7c8767df6596d9916241bf8de 2 aee71c8d18d...       0          0   \n",
              "19997  976360042a27c6b3ea51c3df734f4ca4 1 a5ea180aa3d...       0          0   \n",
              "19998  d8877075c359034c6cb8b9ce2b1748a3 1 aee71c8d18d...       0          0   \n",
              "19999  01c64b4e1b1e73efe133b181ef0b45cc 1 941de11cf93...       0          0   \n",
              "\n",
              "       заявка  клиентов  ...  оплатить  вклады  альфа  zaimy  кредитов  \\\n",
              "0           0         0  ...         0       0      0      0         0   \n",
              "1          15         8  ...         1       5      0      6         9   \n",
              "2           0         0  ...         0       0      0      0         0   \n",
              "3           5         6  ...         0       0      0      0         0   \n",
              "4           5        10  ...         3       0      0      1         0   \n",
              "...       ...       ...  ...       ...     ...    ...    ...       ...   \n",
              "19995       0         0  ...         0       0      0      0         0   \n",
              "19996       0         0  ...         0       0      0      0         0   \n",
              "19997       0         0  ...         0       0      0      0         0   \n",
              "19998       0         0  ...         0       0      0      0         0   \n",
              "19999       0         0  ...         0       0      0      0         0   \n",
              "\n",
              "       kredity  низкой  сбербанк  bank  vacancy  \n",
              "0            0       0         0     0        0  \n",
              "1            6       2         3     1        0  \n",
              "2            0       0         0     0        0  \n",
              "3            0       1         0     0        0  \n",
              "4            1       0         0     1        0  \n",
              "...        ...     ...       ...   ...      ...  \n",
              "19995        0       0         0     0        0  \n",
              "19996        0       0         0     0        0  \n",
              "19997        0       0         0     0        0  \n",
              "19998        0       0         0     0        0  \n",
              "19999        0       0         0     0        0  \n",
              "\n",
              "[20000 rows x 106 columns]"
            ],
            "text/html": [
              "\n",
              "  <div id=\"df-7182517f-78d4-4957-92c7-ee5a3a66cc0d\">\n",
              "    <div class=\"colab-df-container\">\n",
              "      <div>\n",
              "<style scoped>\n",
              "    .dataframe tbody tr th:only-of-type {\n",
              "        vertical-align: middle;\n",
              "    }\n",
              "\n",
              "    .dataframe tbody tr th {\n",
              "        vertical-align: top;\n",
              "    }\n",
              "\n",
              "    .dataframe thead th {\n",
              "        text-align: right;\n",
              "    }\n",
              "</style>\n",
              "<table border=\"1\" class=\"dataframe\">\n",
              "  <thead>\n",
              "    <tr style=\"text-align: right;\">\n",
              "      <th></th>\n",
              "      <th>Unnamed: 0</th>\n",
              "      <th>CLIENT_ID</th>\n",
              "      <th>RETRO_DT</th>\n",
              "      <th>tokens</th>\n",
              "      <th>DEF</th>\n",
              "      <th>urls_hashed</th>\n",
              "      <th>деньги</th>\n",
              "      <th>бесплатно</th>\n",
              "      <th>заявка</th>\n",
              "      <th>клиентов</th>\n",
              "      <th>...</th>\n",
              "      <th>оплатить</th>\n",
              "      <th>вклады</th>\n",
              "      <th>альфа</th>\n",
              "      <th>zaimy</th>\n",
              "      <th>кредитов</th>\n",
              "      <th>kredity</th>\n",
              "      <th>низкой</th>\n",
              "      <th>сбербанк</th>\n",
              "      <th>bank</th>\n",
              "      <th>vacancy</th>\n",
              "    </tr>\n",
              "  </thead>\n",
              "  <tbody>\n",
              "    <tr>\n",
              "      <th>0</th>\n",
              "      <td>0</td>\n",
              "      <td>5909886</td>\n",
              "      <td>20200911</td>\n",
              "      <td>форм 1 мачеха 1 работы 1 пасынка 1 горячую 1 м...</td>\n",
              "      <td>0</td>\n",
              "      <td>7bbcc146c0ba4df814701ff7297b2205 1 ee0d49cbc99...</td>\n",
              "      <td>0</td>\n",
              "      <td>1</td>\n",
              "      <td>0</td>\n",
              "      <td>0</td>\n",
              "      <td>...</td>\n",
              "      <td>0</td>\n",
              "      <td>0</td>\n",
              "      <td>0</td>\n",
              "      <td>0</td>\n",
              "      <td>0</td>\n",
              "      <td>0</td>\n",
              "      <td>0</td>\n",
              "      <td>0</td>\n",
              "      <td>0</td>\n",
              "      <td>0</td>\n",
              "    </tr>\n",
              "    <tr>\n",
              "      <th>1</th>\n",
              "      <td>1</td>\n",
              "      <td>1385448</td>\n",
              "      <td>20210519</td>\n",
              "      <td>platiza 1 мобильные 2 sergej 1 code 3 отказов ...</td>\n",
              "      <td>1</td>\n",
              "      <td>1889e0cbd3e343e9521a07aa312257ac 2 8253d8d3a67...</td>\n",
              "      <td>16</td>\n",
              "      <td>10</td>\n",
              "      <td>15</td>\n",
              "      <td>8</td>\n",
              "      <td>...</td>\n",
              "      <td>1</td>\n",
              "      <td>5</td>\n",
              "      <td>0</td>\n",
              "      <td>6</td>\n",
              "      <td>9</td>\n",
              "      <td>6</td>\n",
              "      <td>2</td>\n",
              "      <td>3</td>\n",
              "      <td>1</td>\n",
              "      <td>0</td>\n",
              "    </tr>\n",
              "    <tr>\n",
              "      <th>2</th>\n",
              "      <td>2</td>\n",
              "      <td>1866195</td>\n",
              "      <td>20210913</td>\n",
              "      <td>sims 3 кредит 1 языке 1 разлива 1 огромное 1 о...</td>\n",
              "      <td>0</td>\n",
              "      <td>6e617b4bfdbef85d8b09ec08ac72f0f2 1 94309f5f116...</td>\n",
              "      <td>0</td>\n",
              "      <td>1</td>\n",
              "      <td>0</td>\n",
              "      <td>0</td>\n",
              "      <td>...</td>\n",
              "      <td>0</td>\n",
              "      <td>0</td>\n",
              "      <td>0</td>\n",
              "      <td>0</td>\n",
              "      <td>0</td>\n",
              "      <td>0</td>\n",
              "      <td>0</td>\n",
              "      <td>0</td>\n",
              "      <td>0</td>\n",
              "      <td>0</td>\n",
              "    </tr>\n",
              "    <tr>\n",
              "      <th>3</th>\n",
              "      <td>3</td>\n",
              "      <td>1587081</td>\n",
              "      <td>20210702</td>\n",
              "      <td>code 1 историй 1 scf 1 шаг 1 деньги 3 серый 1 ...</td>\n",
              "      <td>0</td>\n",
              "      <td>1e833434273e04ba76cfcfb4b48ad21b 3 aee71c8d18d...</td>\n",
              "      <td>3</td>\n",
              "      <td>2</td>\n",
              "      <td>5</td>\n",
              "      <td>6</td>\n",
              "      <td>...</td>\n",
              "      <td>0</td>\n",
              "      <td>0</td>\n",
              "      <td>0</td>\n",
              "      <td>0</td>\n",
              "      <td>0</td>\n",
              "      <td>0</td>\n",
              "      <td>1</td>\n",
              "      <td>0</td>\n",
              "      <td>0</td>\n",
              "      <td>0</td>\n",
              "    </tr>\n",
              "    <tr>\n",
              "      <th>4</th>\n",
              "      <td>4</td>\n",
              "      <td>1400908</td>\n",
              "      <td>20210522</td>\n",
              "      <td>отказов 2 tovara 1 сергея 1 купальный 1 чёрный...</td>\n",
              "      <td>0</td>\n",
              "      <td>83e85bee0d81c0e9e5047e202cddf534 3 6e617b4bfdb...</td>\n",
              "      <td>9</td>\n",
              "      <td>26</td>\n",
              "      <td>5</td>\n",
              "      <td>10</td>\n",
              "      <td>...</td>\n",
              "      <td>3</td>\n",
              "      <td>0</td>\n",
              "      <td>0</td>\n",
              "      <td>1</td>\n",
              "      <td>0</td>\n",
              "      <td>1</td>\n",
              "      <td>0</td>\n",
              "      <td>0</td>\n",
              "      <td>1</td>\n",
              "      <td>0</td>\n",
              "    </tr>\n",
              "    <tr>\n",
              "      <th>...</th>\n",
              "      <td>...</td>\n",
              "      <td>...</td>\n",
              "      <td>...</td>\n",
              "      <td>...</td>\n",
              "      <td>...</td>\n",
              "      <td>...</td>\n",
              "      <td>...</td>\n",
              "      <td>...</td>\n",
              "      <td>...</td>\n",
              "      <td>...</td>\n",
              "      <td>...</td>\n",
              "      <td>...</td>\n",
              "      <td>...</td>\n",
              "      <td>...</td>\n",
              "      <td>...</td>\n",
              "      <td>...</td>\n",
              "      <td>...</td>\n",
              "      <td>...</td>\n",
              "      <td>...</td>\n",
              "      <td>...</td>\n",
              "      <td>...</td>\n",
              "    </tr>\n",
              "    <tr>\n",
              "      <th>19995</th>\n",
              "      <td>20056</td>\n",
              "      <td>1424075</td>\n",
              "      <td>20210528</td>\n",
              "      <td>циан 3 эксперт 1 спутника 2 udalit 1 byvshego ...</td>\n",
              "      <td>0</td>\n",
              "      <td>aee71c8d18d6b91b36bf599208a91777 12 088f2ea438...</td>\n",
              "      <td>0</td>\n",
              "      <td>0</td>\n",
              "      <td>0</td>\n",
              "      <td>0</td>\n",
              "      <td>...</td>\n",
              "      <td>0</td>\n",
              "      <td>0</td>\n",
              "      <td>0</td>\n",
              "      <td>0</td>\n",
              "      <td>0</td>\n",
              "      <td>0</td>\n",
              "      <td>0</td>\n",
              "      <td>0</td>\n",
              "      <td>0</td>\n",
              "      <td>0</td>\n",
              "    </tr>\n",
              "    <tr>\n",
              "      <th>19996</th>\n",
              "      <td>20057</td>\n",
              "      <td>1135996</td>\n",
              "      <td>20210312</td>\n",
              "      <td>циан 1 слепой 1 комедия 1 dist 2 февраль 1 вар...</td>\n",
              "      <td>0</td>\n",
              "      <td>855a8bc7c8767df6596d9916241bf8de 2 aee71c8d18d...</td>\n",
              "      <td>0</td>\n",
              "      <td>0</td>\n",
              "      <td>0</td>\n",
              "      <td>0</td>\n",
              "      <td>...</td>\n",
              "      <td>0</td>\n",
              "      <td>0</td>\n",
              "      <td>0</td>\n",
              "      <td>0</td>\n",
              "      <td>0</td>\n",
              "      <td>0</td>\n",
              "      <td>0</td>\n",
              "      <td>0</td>\n",
              "      <td>0</td>\n",
              "      <td>0</td>\n",
              "    </tr>\n",
              "    <tr>\n",
              "      <th>19997</th>\n",
              "      <td>20058</td>\n",
              "      <td>1396303</td>\n",
              "      <td>20210521</td>\n",
              "      <td>кредит 1 займы 1 годовых 1 ставкой 1 отп 1 низ...</td>\n",
              "      <td>0</td>\n",
              "      <td>976360042a27c6b3ea51c3df734f4ca4 1 a5ea180aa3d...</td>\n",
              "      <td>0</td>\n",
              "      <td>0</td>\n",
              "      <td>0</td>\n",
              "      <td>0</td>\n",
              "      <td>...</td>\n",
              "      <td>0</td>\n",
              "      <td>0</td>\n",
              "      <td>0</td>\n",
              "      <td>0</td>\n",
              "      <td>0</td>\n",
              "      <td>0</td>\n",
              "      <td>0</td>\n",
              "      <td>0</td>\n",
              "      <td>0</td>\n",
              "      <td>0</td>\n",
              "    </tr>\n",
              "    <tr>\n",
              "      <th>19998</th>\n",
              "      <td>20059</td>\n",
              "      <td>5720156</td>\n",
              "      <td>20200708</td>\n",
              "      <td>кредит 1 акционерное 1 selection 1 телевизор 1...</td>\n",
              "      <td>0</td>\n",
              "      <td>d8877075c359034c6cb8b9ce2b1748a3 1 aee71c8d18d...</td>\n",
              "      <td>0</td>\n",
              "      <td>0</td>\n",
              "      <td>0</td>\n",
              "      <td>0</td>\n",
              "      <td>...</td>\n",
              "      <td>0</td>\n",
              "      <td>0</td>\n",
              "      <td>0</td>\n",
              "      <td>0</td>\n",
              "      <td>0</td>\n",
              "      <td>0</td>\n",
              "      <td>0</td>\n",
              "      <td>0</td>\n",
              "      <td>0</td>\n",
              "      <td>0</td>\n",
              "    </tr>\n",
              "    <tr>\n",
              "      <th>19999</th>\n",
              "      <td>20060</td>\n",
              "      <td>220116871</td>\n",
              "      <td>20210923</td>\n",
              "      <td>кредит 2 выгодной 1 новинки 1 устройств 1 feed...</td>\n",
              "      <td>0</td>\n",
              "      <td>01c64b4e1b1e73efe133b181ef0b45cc 1 941de11cf93...</td>\n",
              "      <td>0</td>\n",
              "      <td>0</td>\n",
              "      <td>0</td>\n",
              "      <td>0</td>\n",
              "      <td>...</td>\n",
              "      <td>0</td>\n",
              "      <td>0</td>\n",
              "      <td>0</td>\n",
              "      <td>0</td>\n",
              "      <td>0</td>\n",
              "      <td>0</td>\n",
              "      <td>0</td>\n",
              "      <td>0</td>\n",
              "      <td>0</td>\n",
              "      <td>0</td>\n",
              "    </tr>\n",
              "  </tbody>\n",
              "</table>\n",
              "<p>20000 rows × 106 columns</p>\n",
              "</div>\n",
              "      <button class=\"colab-df-convert\" onclick=\"convertToInteractive('df-7182517f-78d4-4957-92c7-ee5a3a66cc0d')\"\n",
              "              title=\"Convert this dataframe to an interactive table.\"\n",
              "              style=\"display:none;\">\n",
              "        \n",
              "  <svg xmlns=\"http://www.w3.org/2000/svg\" height=\"24px\"viewBox=\"0 0 24 24\"\n",
              "       width=\"24px\">\n",
              "    <path d=\"M0 0h24v24H0V0z\" fill=\"none\"/>\n",
              "    <path d=\"M18.56 5.44l.94 2.06.94-2.06 2.06-.94-2.06-.94-.94-2.06-.94 2.06-2.06.94zm-11 1L8.5 8.5l.94-2.06 2.06-.94-2.06-.94L8.5 2.5l-.94 2.06-2.06.94zm10 10l.94 2.06.94-2.06 2.06-.94-2.06-.94-.94-2.06-.94 2.06-2.06.94z\"/><path d=\"M17.41 7.96l-1.37-1.37c-.4-.4-.92-.59-1.43-.59-.52 0-1.04.2-1.43.59L10.3 9.45l-7.72 7.72c-.78.78-.78 2.05 0 2.83L4 21.41c.39.39.9.59 1.41.59.51 0 1.02-.2 1.41-.59l7.78-7.78 2.81-2.81c.8-.78.8-2.07 0-2.86zM5.41 20L4 18.59l7.72-7.72 1.47 1.35L5.41 20z\"/>\n",
              "  </svg>\n",
              "      </button>\n",
              "      \n",
              "  <style>\n",
              "    .colab-df-container {\n",
              "      display:flex;\n",
              "      flex-wrap:wrap;\n",
              "      gap: 12px;\n",
              "    }\n",
              "\n",
              "    .colab-df-convert {\n",
              "      background-color: #E8F0FE;\n",
              "      border: none;\n",
              "      border-radius: 50%;\n",
              "      cursor: pointer;\n",
              "      display: none;\n",
              "      fill: #1967D2;\n",
              "      height: 32px;\n",
              "      padding: 0 0 0 0;\n",
              "      width: 32px;\n",
              "    }\n",
              "\n",
              "    .colab-df-convert:hover {\n",
              "      background-color: #E2EBFA;\n",
              "      box-shadow: 0px 1px 2px rgba(60, 64, 67, 0.3), 0px 1px 3px 1px rgba(60, 64, 67, 0.15);\n",
              "      fill: #174EA6;\n",
              "    }\n",
              "\n",
              "    [theme=dark] .colab-df-convert {\n",
              "      background-color: #3B4455;\n",
              "      fill: #D2E3FC;\n",
              "    }\n",
              "\n",
              "    [theme=dark] .colab-df-convert:hover {\n",
              "      background-color: #434B5C;\n",
              "      box-shadow: 0px 1px 3px 1px rgba(0, 0, 0, 0.15);\n",
              "      filter: drop-shadow(0px 1px 2px rgba(0, 0, 0, 0.3));\n",
              "      fill: #FFFFFF;\n",
              "    }\n",
              "  </style>\n",
              "\n",
              "      <script>\n",
              "        const buttonEl =\n",
              "          document.querySelector('#df-7182517f-78d4-4957-92c7-ee5a3a66cc0d button.colab-df-convert');\n",
              "        buttonEl.style.display =\n",
              "          google.colab.kernel.accessAllowed ? 'block' : 'none';\n",
              "\n",
              "        async function convertToInteractive(key) {\n",
              "          const element = document.querySelector('#df-7182517f-78d4-4957-92c7-ee5a3a66cc0d');\n",
              "          const dataTable =\n",
              "            await google.colab.kernel.invokeFunction('convertToInteractive',\n",
              "                                                     [key], {});\n",
              "          if (!dataTable) return;\n",
              "\n",
              "          const docLinkHtml = 'Like what you see? Visit the ' +\n",
              "            '<a target=\"_blank\" href=https://colab.research.google.com/notebooks/data_table.ipynb>data table notebook</a>'\n",
              "            + ' to learn more about interactive tables.';\n",
              "          element.innerHTML = '';\n",
              "          dataTable['output_type'] = 'display_data';\n",
              "          await google.colab.output.renderOutput(dataTable, element);\n",
              "          const docLink = document.createElement('div');\n",
              "          docLink.innerHTML = docLinkHtml;\n",
              "          element.appendChild(docLink);\n",
              "        }\n",
              "      </script>\n",
              "    </div>\n",
              "  </div>\n",
              "  "
            ]
          },
          "metadata": {},
          "execution_count": 8
        }
      ]
    },
    {
      "cell_type": "code",
      "execution_count": 9,
      "id": "4e37d9f6-e6ba-41c8-9127-5b1eedbafe48",
      "metadata": {
        "colab": {
          "base_uri": "https://localhost:8080/",
          "height": 488
        },
        "id": "4e37d9f6-e6ba-41c8-9127-5b1eedbafe48",
        "outputId": "3534a65d-191a-471f-c6fd-62492b0ea8e4"
      },
      "outputs": [
        {
          "output_type": "execute_result",
          "data": {
            "text/plain": [
              "       DEF  деньги  бесплатно  заявка  клиентов  рублей  цены  срочно  credit  \\\n",
              "0        0       0          1       0         0       0     0       0       0   \n",
              "1        1      16         10      15         8       2     1       7      19   \n",
              "2        0       0          1       0         0       0     1       0       0   \n",
              "3        0       3          2       5         6       3     1       6       5   \n",
              "4        0       9         26       5        10      12     1       4       3   \n",
              "...    ...     ...        ...     ...       ...     ...   ...     ...     ...   \n",
              "19995    0       0          0       0         0       0     0       0       0   \n",
              "19996    0       0          0       0         0       0     0       0       0   \n",
              "19997    0       0          0       0         0       0     0       0       0   \n",
              "19998    0       0          0       0         0       0     0       0       0   \n",
              "19999    0       0          0       0         0       0     0       0       0   \n",
              "\n",
              "       оформить  ...  оплатить  вклады  альфа  zaimy  кредитов  kredity  \\\n",
              "0             0  ...         0       0      0      0         0        0   \n",
              "1            13  ...         1       5      0      6         9        6   \n",
              "2             0  ...         0       0      0      0         0        0   \n",
              "3             2  ...         0       0      0      0         0        0   \n",
              "4             6  ...         3       0      0      1         0        1   \n",
              "...         ...  ...       ...     ...    ...    ...       ...      ...   \n",
              "19995         0  ...         0       0      0      0         0        0   \n",
              "19996         0  ...         0       0      0      0         0        0   \n",
              "19997         0  ...         0       0      0      0         0        0   \n",
              "19998         0  ...         0       0      0      0         0        0   \n",
              "19999         0  ...         0       0      0      0         0        0   \n",
              "\n",
              "       низкой  сбербанк  bank  vacancy  \n",
              "0           0         0     0        0  \n",
              "1           2         3     1        0  \n",
              "2           0         0     0        0  \n",
              "3           1         0     0        0  \n",
              "4           0         0     1        0  \n",
              "...       ...       ...   ...      ...  \n",
              "19995       0         0     0        0  \n",
              "19996       0         0     0        0  \n",
              "19997       0         0     0        0  \n",
              "19998       0         0     0        0  \n",
              "19999       0         0     0        0  \n",
              "\n",
              "[20000 rows x 101 columns]"
            ],
            "text/html": [
              "\n",
              "  <div id=\"df-d19be3ff-4708-4cf9-8c8a-4e0a7fd1bcf6\">\n",
              "    <div class=\"colab-df-container\">\n",
              "      <div>\n",
              "<style scoped>\n",
              "    .dataframe tbody tr th:only-of-type {\n",
              "        vertical-align: middle;\n",
              "    }\n",
              "\n",
              "    .dataframe tbody tr th {\n",
              "        vertical-align: top;\n",
              "    }\n",
              "\n",
              "    .dataframe thead th {\n",
              "        text-align: right;\n",
              "    }\n",
              "</style>\n",
              "<table border=\"1\" class=\"dataframe\">\n",
              "  <thead>\n",
              "    <tr style=\"text-align: right;\">\n",
              "      <th></th>\n",
              "      <th>DEF</th>\n",
              "      <th>деньги</th>\n",
              "      <th>бесплатно</th>\n",
              "      <th>заявка</th>\n",
              "      <th>клиентов</th>\n",
              "      <th>рублей</th>\n",
              "      <th>цены</th>\n",
              "      <th>срочно</th>\n",
              "      <th>credit</th>\n",
              "      <th>оформить</th>\n",
              "      <th>...</th>\n",
              "      <th>оплатить</th>\n",
              "      <th>вклады</th>\n",
              "      <th>альфа</th>\n",
              "      <th>zaimy</th>\n",
              "      <th>кредитов</th>\n",
              "      <th>kredity</th>\n",
              "      <th>низкой</th>\n",
              "      <th>сбербанк</th>\n",
              "      <th>bank</th>\n",
              "      <th>vacancy</th>\n",
              "    </tr>\n",
              "  </thead>\n",
              "  <tbody>\n",
              "    <tr>\n",
              "      <th>0</th>\n",
              "      <td>0</td>\n",
              "      <td>0</td>\n",
              "      <td>1</td>\n",
              "      <td>0</td>\n",
              "      <td>0</td>\n",
              "      <td>0</td>\n",
              "      <td>0</td>\n",
              "      <td>0</td>\n",
              "      <td>0</td>\n",
              "      <td>0</td>\n",
              "      <td>...</td>\n",
              "      <td>0</td>\n",
              "      <td>0</td>\n",
              "      <td>0</td>\n",
              "      <td>0</td>\n",
              "      <td>0</td>\n",
              "      <td>0</td>\n",
              "      <td>0</td>\n",
              "      <td>0</td>\n",
              "      <td>0</td>\n",
              "      <td>0</td>\n",
              "    </tr>\n",
              "    <tr>\n",
              "      <th>1</th>\n",
              "      <td>1</td>\n",
              "      <td>16</td>\n",
              "      <td>10</td>\n",
              "      <td>15</td>\n",
              "      <td>8</td>\n",
              "      <td>2</td>\n",
              "      <td>1</td>\n",
              "      <td>7</td>\n",
              "      <td>19</td>\n",
              "      <td>13</td>\n",
              "      <td>...</td>\n",
              "      <td>1</td>\n",
              "      <td>5</td>\n",
              "      <td>0</td>\n",
              "      <td>6</td>\n",
              "      <td>9</td>\n",
              "      <td>6</td>\n",
              "      <td>2</td>\n",
              "      <td>3</td>\n",
              "      <td>1</td>\n",
              "      <td>0</td>\n",
              "    </tr>\n",
              "    <tr>\n",
              "      <th>2</th>\n",
              "      <td>0</td>\n",
              "      <td>0</td>\n",
              "      <td>1</td>\n",
              "      <td>0</td>\n",
              "      <td>0</td>\n",
              "      <td>0</td>\n",
              "      <td>1</td>\n",
              "      <td>0</td>\n",
              "      <td>0</td>\n",
              "      <td>0</td>\n",
              "      <td>...</td>\n",
              "      <td>0</td>\n",
              "      <td>0</td>\n",
              "      <td>0</td>\n",
              "      <td>0</td>\n",
              "      <td>0</td>\n",
              "      <td>0</td>\n",
              "      <td>0</td>\n",
              "      <td>0</td>\n",
              "      <td>0</td>\n",
              "      <td>0</td>\n",
              "    </tr>\n",
              "    <tr>\n",
              "      <th>3</th>\n",
              "      <td>0</td>\n",
              "      <td>3</td>\n",
              "      <td>2</td>\n",
              "      <td>5</td>\n",
              "      <td>6</td>\n",
              "      <td>3</td>\n",
              "      <td>1</td>\n",
              "      <td>6</td>\n",
              "      <td>5</td>\n",
              "      <td>2</td>\n",
              "      <td>...</td>\n",
              "      <td>0</td>\n",
              "      <td>0</td>\n",
              "      <td>0</td>\n",
              "      <td>0</td>\n",
              "      <td>0</td>\n",
              "      <td>0</td>\n",
              "      <td>1</td>\n",
              "      <td>0</td>\n",
              "      <td>0</td>\n",
              "      <td>0</td>\n",
              "    </tr>\n",
              "    <tr>\n",
              "      <th>4</th>\n",
              "      <td>0</td>\n",
              "      <td>9</td>\n",
              "      <td>26</td>\n",
              "      <td>5</td>\n",
              "      <td>10</td>\n",
              "      <td>12</td>\n",
              "      <td>1</td>\n",
              "      <td>4</td>\n",
              "      <td>3</td>\n",
              "      <td>6</td>\n",
              "      <td>...</td>\n",
              "      <td>3</td>\n",
              "      <td>0</td>\n",
              "      <td>0</td>\n",
              "      <td>1</td>\n",
              "      <td>0</td>\n",
              "      <td>1</td>\n",
              "      <td>0</td>\n",
              "      <td>0</td>\n",
              "      <td>1</td>\n",
              "      <td>0</td>\n",
              "    </tr>\n",
              "    <tr>\n",
              "      <th>...</th>\n",
              "      <td>...</td>\n",
              "      <td>...</td>\n",
              "      <td>...</td>\n",
              "      <td>...</td>\n",
              "      <td>...</td>\n",
              "      <td>...</td>\n",
              "      <td>...</td>\n",
              "      <td>...</td>\n",
              "      <td>...</td>\n",
              "      <td>...</td>\n",
              "      <td>...</td>\n",
              "      <td>...</td>\n",
              "      <td>...</td>\n",
              "      <td>...</td>\n",
              "      <td>...</td>\n",
              "      <td>...</td>\n",
              "      <td>...</td>\n",
              "      <td>...</td>\n",
              "      <td>...</td>\n",
              "      <td>...</td>\n",
              "      <td>...</td>\n",
              "    </tr>\n",
              "    <tr>\n",
              "      <th>19995</th>\n",
              "      <td>0</td>\n",
              "      <td>0</td>\n",
              "      <td>0</td>\n",
              "      <td>0</td>\n",
              "      <td>0</td>\n",
              "      <td>0</td>\n",
              "      <td>0</td>\n",
              "      <td>0</td>\n",
              "      <td>0</td>\n",
              "      <td>0</td>\n",
              "      <td>...</td>\n",
              "      <td>0</td>\n",
              "      <td>0</td>\n",
              "      <td>0</td>\n",
              "      <td>0</td>\n",
              "      <td>0</td>\n",
              "      <td>0</td>\n",
              "      <td>0</td>\n",
              "      <td>0</td>\n",
              "      <td>0</td>\n",
              "      <td>0</td>\n",
              "    </tr>\n",
              "    <tr>\n",
              "      <th>19996</th>\n",
              "      <td>0</td>\n",
              "      <td>0</td>\n",
              "      <td>0</td>\n",
              "      <td>0</td>\n",
              "      <td>0</td>\n",
              "      <td>0</td>\n",
              "      <td>0</td>\n",
              "      <td>0</td>\n",
              "      <td>0</td>\n",
              "      <td>0</td>\n",
              "      <td>...</td>\n",
              "      <td>0</td>\n",
              "      <td>0</td>\n",
              "      <td>0</td>\n",
              "      <td>0</td>\n",
              "      <td>0</td>\n",
              "      <td>0</td>\n",
              "      <td>0</td>\n",
              "      <td>0</td>\n",
              "      <td>0</td>\n",
              "      <td>0</td>\n",
              "    </tr>\n",
              "    <tr>\n",
              "      <th>19997</th>\n",
              "      <td>0</td>\n",
              "      <td>0</td>\n",
              "      <td>0</td>\n",
              "      <td>0</td>\n",
              "      <td>0</td>\n",
              "      <td>0</td>\n",
              "      <td>0</td>\n",
              "      <td>0</td>\n",
              "      <td>0</td>\n",
              "      <td>0</td>\n",
              "      <td>...</td>\n",
              "      <td>0</td>\n",
              "      <td>0</td>\n",
              "      <td>0</td>\n",
              "      <td>0</td>\n",
              "      <td>0</td>\n",
              "      <td>0</td>\n",
              "      <td>0</td>\n",
              "      <td>0</td>\n",
              "      <td>0</td>\n",
              "      <td>0</td>\n",
              "    </tr>\n",
              "    <tr>\n",
              "      <th>19998</th>\n",
              "      <td>0</td>\n",
              "      <td>0</td>\n",
              "      <td>0</td>\n",
              "      <td>0</td>\n",
              "      <td>0</td>\n",
              "      <td>0</td>\n",
              "      <td>0</td>\n",
              "      <td>0</td>\n",
              "      <td>0</td>\n",
              "      <td>0</td>\n",
              "      <td>...</td>\n",
              "      <td>0</td>\n",
              "      <td>0</td>\n",
              "      <td>0</td>\n",
              "      <td>0</td>\n",
              "      <td>0</td>\n",
              "      <td>0</td>\n",
              "      <td>0</td>\n",
              "      <td>0</td>\n",
              "      <td>0</td>\n",
              "      <td>0</td>\n",
              "    </tr>\n",
              "    <tr>\n",
              "      <th>19999</th>\n",
              "      <td>0</td>\n",
              "      <td>0</td>\n",
              "      <td>0</td>\n",
              "      <td>0</td>\n",
              "      <td>0</td>\n",
              "      <td>0</td>\n",
              "      <td>0</td>\n",
              "      <td>0</td>\n",
              "      <td>0</td>\n",
              "      <td>0</td>\n",
              "      <td>...</td>\n",
              "      <td>0</td>\n",
              "      <td>0</td>\n",
              "      <td>0</td>\n",
              "      <td>0</td>\n",
              "      <td>0</td>\n",
              "      <td>0</td>\n",
              "      <td>0</td>\n",
              "      <td>0</td>\n",
              "      <td>0</td>\n",
              "      <td>0</td>\n",
              "    </tr>\n",
              "  </tbody>\n",
              "</table>\n",
              "<p>20000 rows × 101 columns</p>\n",
              "</div>\n",
              "      <button class=\"colab-df-convert\" onclick=\"convertToInteractive('df-d19be3ff-4708-4cf9-8c8a-4e0a7fd1bcf6')\"\n",
              "              title=\"Convert this dataframe to an interactive table.\"\n",
              "              style=\"display:none;\">\n",
              "        \n",
              "  <svg xmlns=\"http://www.w3.org/2000/svg\" height=\"24px\"viewBox=\"0 0 24 24\"\n",
              "       width=\"24px\">\n",
              "    <path d=\"M0 0h24v24H0V0z\" fill=\"none\"/>\n",
              "    <path d=\"M18.56 5.44l.94 2.06.94-2.06 2.06-.94-2.06-.94-.94-2.06-.94 2.06-2.06.94zm-11 1L8.5 8.5l.94-2.06 2.06-.94-2.06-.94L8.5 2.5l-.94 2.06-2.06.94zm10 10l.94 2.06.94-2.06 2.06-.94-2.06-.94-.94-2.06-.94 2.06-2.06.94z\"/><path d=\"M17.41 7.96l-1.37-1.37c-.4-.4-.92-.59-1.43-.59-.52 0-1.04.2-1.43.59L10.3 9.45l-7.72 7.72c-.78.78-.78 2.05 0 2.83L4 21.41c.39.39.9.59 1.41.59.51 0 1.02-.2 1.41-.59l7.78-7.78 2.81-2.81c.8-.78.8-2.07 0-2.86zM5.41 20L4 18.59l7.72-7.72 1.47 1.35L5.41 20z\"/>\n",
              "  </svg>\n",
              "      </button>\n",
              "      \n",
              "  <style>\n",
              "    .colab-df-container {\n",
              "      display:flex;\n",
              "      flex-wrap:wrap;\n",
              "      gap: 12px;\n",
              "    }\n",
              "\n",
              "    .colab-df-convert {\n",
              "      background-color: #E8F0FE;\n",
              "      border: none;\n",
              "      border-radius: 50%;\n",
              "      cursor: pointer;\n",
              "      display: none;\n",
              "      fill: #1967D2;\n",
              "      height: 32px;\n",
              "      padding: 0 0 0 0;\n",
              "      width: 32px;\n",
              "    }\n",
              "\n",
              "    .colab-df-convert:hover {\n",
              "      background-color: #E2EBFA;\n",
              "      box-shadow: 0px 1px 2px rgba(60, 64, 67, 0.3), 0px 1px 3px 1px rgba(60, 64, 67, 0.15);\n",
              "      fill: #174EA6;\n",
              "    }\n",
              "\n",
              "    [theme=dark] .colab-df-convert {\n",
              "      background-color: #3B4455;\n",
              "      fill: #D2E3FC;\n",
              "    }\n",
              "\n",
              "    [theme=dark] .colab-df-convert:hover {\n",
              "      background-color: #434B5C;\n",
              "      box-shadow: 0px 1px 3px 1px rgba(0, 0, 0, 0.15);\n",
              "      filter: drop-shadow(0px 1px 2px rgba(0, 0, 0, 0.3));\n",
              "      fill: #FFFFFF;\n",
              "    }\n",
              "  </style>\n",
              "\n",
              "      <script>\n",
              "        const buttonEl =\n",
              "          document.querySelector('#df-d19be3ff-4708-4cf9-8c8a-4e0a7fd1bcf6 button.colab-df-convert');\n",
              "        buttonEl.style.display =\n",
              "          google.colab.kernel.accessAllowed ? 'block' : 'none';\n",
              "\n",
              "        async function convertToInteractive(key) {\n",
              "          const element = document.querySelector('#df-d19be3ff-4708-4cf9-8c8a-4e0a7fd1bcf6');\n",
              "          const dataTable =\n",
              "            await google.colab.kernel.invokeFunction('convertToInteractive',\n",
              "                                                     [key], {});\n",
              "          if (!dataTable) return;\n",
              "\n",
              "          const docLinkHtml = 'Like what you see? Visit the ' +\n",
              "            '<a target=\"_blank\" href=https://colab.research.google.com/notebooks/data_table.ipynb>data table notebook</a>'\n",
              "            + ' to learn more about interactive tables.';\n",
              "          element.innerHTML = '';\n",
              "          dataTable['output_type'] = 'display_data';\n",
              "          await google.colab.output.renderOutput(dataTable, element);\n",
              "          const docLink = document.createElement('div');\n",
              "          docLink.innerHTML = docLinkHtml;\n",
              "          element.appendChild(docLink);\n",
              "        }\n",
              "      </script>\n",
              "    </div>\n",
              "  </div>\n",
              "  "
            ]
          },
          "metadata": {},
          "execution_count": 9
        }
      ],
      "source": [
        "df = df.drop(columns=['Unnamed: 0', 'CLIENT_ID', 'RETRO_DT','tokens', 'urls_hashed'])\n",
        "df"
      ]
    },
    {
      "cell_type": "code",
      "execution_count": 10,
      "id": "68b52b07-628c-4d87-b321-25f212f817b7",
      "metadata": {
        "id": "68b52b07-628c-4d87-b321-25f212f817b7"
      },
      "outputs": [],
      "source": [
        "X_train, X_test, y_train, y_test = train_test_split(df.drop(columns=['DEF']), df.DEF, test_size=0.2, random_state=42)"
      ]
    },
    {
      "cell_type": "code",
      "execution_count": 11,
      "id": "f21145bd-499f-4178-8ecc-b6c1a6746662",
      "metadata": {
        "id": "f21145bd-499f-4178-8ecc-b6c1a6746662"
      },
      "outputs": [],
      "source": [
        "from sklearn.linear_model import LogisticRegression as LogReg"
      ]
    },
    {
      "cell_type": "code",
      "execution_count": 12,
      "id": "3d5e8d67-db3d-4618-ad7e-35b98f7b87fc",
      "metadata": {
        "id": "3d5e8d67-db3d-4618-ad7e-35b98f7b87fc"
      },
      "outputs": [],
      "source": [
        "from sklearn.model_selection import GridSearchCV"
      ]
    },
    {
      "cell_type": "code",
      "execution_count": 12,
      "id": "6e53227c-c8b3-4a3e-ae77-5d4e674bd07e",
      "metadata": {
        "id": "6e53227c-c8b3-4a3e-ae77-5d4e674bd07e"
      },
      "outputs": [],
      "source": []
    },
    {
      "cell_type": "code",
      "execution_count": 13,
      "id": "56a8b073-d2ca-4c70-b647-cc697b276da9",
      "metadata": {
        "id": "56a8b073-d2ca-4c70-b647-cc697b276da9"
      },
      "outputs": [],
      "source": [
        "parameters = {'max_iter':[100, 1000, 3000, 20000]}\n",
        "logistic_regression = LogReg(verbose=0, n_jobs=-1, random_state=46, class_weight={0: 0.3,1: 0.7})\n",
        "clf = GridSearchCV(logistic_regression, parameters)"
      ]
    },
    {
      "cell_type": "code",
      "execution_count": 14,
      "id": "6dcf2c04-20fa-43fe-970f-13d7a857a86f",
      "metadata": {
        "colab": {
          "base_uri": "https://localhost:8080/"
        },
        "id": "6dcf2c04-20fa-43fe-970f-13d7a857a86f",
        "outputId": "17f71544-0db6-4b0c-a069-6626d83b7afe"
      },
      "outputs": [
        {
          "output_type": "execute_result",
          "data": {
            "text/plain": [
              "GridSearchCV(estimator=LogisticRegression(class_weight={0: 0.3, 1: 0.7},\n",
              "                                          n_jobs=-1, random_state=46),\n",
              "             param_grid={'max_iter': [100, 1000, 3000, 20000]})"
            ]
          },
          "metadata": {},
          "execution_count": 14
        }
      ],
      "source": [
        "clf.fit(X_train, y_train)"
      ]
    },
    {
      "cell_type": "code",
      "execution_count": 15,
      "id": "f399035f-330d-4d9d-ae71-66f89765c702",
      "metadata": {
        "id": "f399035f-330d-4d9d-ae71-66f89765c702"
      },
      "outputs": [],
      "source": [
        "pred = clf.predict_proba(X_test)[:, 1]"
      ]
    },
    {
      "cell_type": "code",
      "source": [
        "# pred = clf.predict(X_test)"
      ],
      "metadata": {
        "id": "6FdYBNOqO--5"
      },
      "id": "6FdYBNOqO--5",
      "execution_count": 16,
      "outputs": []
    },
    {
      "cell_type": "code",
      "execution_count": 17,
      "id": "89daa048-b8a3-4660-bf77-3c685d52a9a4",
      "metadata": {
        "id": "89daa048-b8a3-4660-bf77-3c685d52a9a4"
      },
      "outputs": [],
      "source": [
        "pred_pred = clf.predict(X_test)"
      ]
    },
    {
      "cell_type": "code",
      "execution_count": 18,
      "id": "aab5d33b-3130-4339-895d-53ed084031e9",
      "metadata": {
        "id": "aab5d33b-3130-4339-895d-53ed084031e9"
      },
      "outputs": [],
      "source": [
        "from sklearn.metrics import roc_auc_score"
      ]
    },
    {
      "cell_type": "code",
      "execution_count": 19,
      "id": "845b7d74-e15e-4d9e-babe-dc16a97d78b3",
      "metadata": {
        "colab": {
          "base_uri": "https://localhost:8080/"
        },
        "id": "845b7d74-e15e-4d9e-babe-dc16a97d78b3",
        "outputId": "225af590-b08c-4316-981d-683faf8b35aa"
      },
      "outputs": [
        {
          "output_type": "execute_result",
          "data": {
            "text/plain": [
              "pandas.core.series.Series"
            ]
          },
          "metadata": {},
          "execution_count": 19
        }
      ],
      "source": [
        "type(y_test)"
      ]
    },
    {
      "cell_type": "code",
      "execution_count": 20,
      "id": "d2129d6a-b352-4747-9926-bd13732ec101",
      "metadata": {
        "colab": {
          "base_uri": "https://localhost:8080/"
        },
        "id": "d2129d6a-b352-4747-9926-bd13732ec101",
        "outputId": "5126f86a-208f-4827-ebe9-9880b803d986"
      },
      "outputs": [
        {
          "output_type": "execute_result",
          "data": {
            "text/plain": [
              "0    0.373112\n",
              "dtype: float64"
            ]
          },
          "metadata": {},
          "execution_count": 20
        }
      ],
      "source": [
        "pd.Series(pred[0])"
      ]
    },
    {
      "cell_type": "code",
      "execution_count": 21,
      "id": "c5c77246-ea6f-43fa-9cfa-6577707ed8e4",
      "metadata": {
        "colab": {
          "base_uri": "https://localhost:8080/"
        },
        "id": "c5c77246-ea6f-43fa-9cfa-6577707ed8e4",
        "outputId": "550aa1b7-4fab-43e9-8053-bab1a156447a"
      },
      "outputs": [
        {
          "output_type": "execute_result",
          "data": {
            "text/plain": [
              "0.5708704495577759"
            ]
          },
          "metadata": {},
          "execution_count": 21
        }
      ],
      "source": [
        "roc_auc_score(y_test, pred)"
      ]
    },
    {
      "cell_type": "code",
      "source": [],
      "metadata": {
        "id": "GJjnTqjkOW6y"
      },
      "id": "GJjnTqjkOW6y",
      "execution_count": null,
      "outputs": []
    },
    {
      "cell_type": "code",
      "source": [],
      "metadata": {
        "id": "K3VHR66wOW85"
      },
      "id": "K3VHR66wOW85",
      "execution_count": null,
      "outputs": []
    },
    {
      "cell_type": "code",
      "execution_count": 22,
      "id": "7405c0d4-c7f1-4c00-ae69-f7f62d03b165",
      "metadata": {
        "id": "7405c0d4-c7f1-4c00-ae69-f7f62d03b165"
      },
      "outputs": [],
      "source": [
        "model = CatBoostClassifier(eval_metric='AUC', logging_level='Silent')\n"
      ]
    },
    {
      "cell_type": "code",
      "execution_count": 38,
      "id": "0b0338a5-a785-49ff-8af3-2909659d7649",
      "metadata": {
        "colab": {
          "base_uri": "https://localhost:8080/"
        },
        "id": "0b0338a5-a785-49ff-8af3-2909659d7649",
        "outputId": "b39b1247-f88e-431b-81e5-67b179e5acb8"
      },
      "outputs": [
        {
          "output_type": "stream",
          "name": "stdout",
          "text": [
            "lol\n"
          ]
        }
      ],
      "source": [
        "print(\"lol\")"
      ]
    },
    {
      "cell_type": "code",
      "execution_count": 26,
      "id": "095e0c5f-31be-4d8a-bd40-7c41f397b302",
      "metadata": {
        "id": "095e0c5f-31be-4d8a-bd40-7c41f397b302"
      },
      "outputs": [],
      "source": [
        "grid = {'learning_rate': [ 0.1],\n",
        "        'depth': [10],\n",
        "        # 'l2_leaf_reg': [1, 3, 9],\n",
        "        'iterations': [1000]}"
      ]
    },
    {
      "cell_type": "code",
      "execution_count": 27,
      "id": "467933cb-853c-4427-a7ac-d6bad0d6d551",
      "metadata": {
        "colab": {
          "base_uri": "https://localhost:8080/",
          "height": 488,
          "referenced_widgets": [
            "1d9ab9ccd5304a38a576cc3be86e0271"
          ]
        },
        "id": "467933cb-853c-4427-a7ac-d6bad0d6d551",
        "outputId": "00cf0816-c79c-4434-d7ee-8176f8a23555"
      },
      "outputs": [
        {
          "output_type": "display_data",
          "data": {
            "text/plain": [
              "MetricVisualizer(layout=Layout(align_self='stretch', height='500px'))"
            ],
            "application/vnd.jupyter.widget-view+json": {
              "version_major": 2,
              "version_minor": 0,
              "model_id": "1d9ab9ccd5304a38a576cc3be86e0271"
            }
          },
          "metadata": {}
        },
        {
          "output_type": "stream",
          "name": "stdout",
          "text": [
            "Metric AUC is not calculated on train by default. To calculate this metric on train, add hints=skip_train~false to metric parameters.\n"
          ]
        },
        {
          "output_type": "error",
          "ename": "KeyboardInterrupt",
          "evalue": "ignored",
          "traceback": [
            "\u001b[0;31m---------------------------------------------------------------------------\u001b[0m",
            "\u001b[0;31mKeyboardInterrupt\u001b[0m                         Traceback (most recent call last)",
            "\u001b[0;32m<ipython-input-27-8db67b6a63e4>\u001b[0m in \u001b[0;36m<module>\u001b[0;34m\u001b[0m\n\u001b[1;32m      3\u001b[0m                                        \u001b[0my\u001b[0m\u001b[0;34m=\u001b[0m\u001b[0my_train\u001b[0m\u001b[0;34m,\u001b[0m\u001b[0;34m\u001b[0m\u001b[0;34m\u001b[0m\u001b[0m\n\u001b[1;32m      4\u001b[0m                                        \u001b[0mverbose\u001b[0m\u001b[0;34m=\u001b[0m\u001b[0;32mFalse\u001b[0m\u001b[0;34m,\u001b[0m\u001b[0;34m\u001b[0m\u001b[0;34m\u001b[0m\u001b[0m\n\u001b[0;32m----> 5\u001b[0;31m                                        plot=True)\n\u001b[0m",
            "\u001b[0;32m/usr/local/lib/python3.7/dist-packages/catboost/core.py\u001b[0m in \u001b[0;36mgrid_search\u001b[0;34m(self, param_grid, X, y, cv, partition_random_seed, calc_cv_statistics, search_by_train_test_split, refit, shuffle, stratified, train_size, verbose, plot, log_cout, log_cerr)\u001b[0m\n\u001b[1;32m   4017\u001b[0m             \u001b[0msearch_by_train_test_split\u001b[0m\u001b[0;34m=\u001b[0m\u001b[0msearch_by_train_test_split\u001b[0m\u001b[0;34m,\u001b[0m \u001b[0mrefit\u001b[0m\u001b[0;34m=\u001b[0m\u001b[0mrefit\u001b[0m\u001b[0;34m,\u001b[0m \u001b[0mshuffle\u001b[0m\u001b[0;34m=\u001b[0m\u001b[0mshuffle\u001b[0m\u001b[0;34m,\u001b[0m\u001b[0;34m\u001b[0m\u001b[0;34m\u001b[0m\u001b[0m\n\u001b[1;32m   4018\u001b[0m             \u001b[0mstratified\u001b[0m\u001b[0;34m=\u001b[0m\u001b[0mstratified\u001b[0m\u001b[0;34m,\u001b[0m \u001b[0mtrain_size\u001b[0m\u001b[0;34m=\u001b[0m\u001b[0mtrain_size\u001b[0m\u001b[0;34m,\u001b[0m \u001b[0mverbose\u001b[0m\u001b[0;34m=\u001b[0m\u001b[0mverbose\u001b[0m\u001b[0;34m,\u001b[0m \u001b[0mplot\u001b[0m\u001b[0;34m=\u001b[0m\u001b[0mplot\u001b[0m\u001b[0;34m,\u001b[0m\u001b[0;34m\u001b[0m\u001b[0;34m\u001b[0m\u001b[0m\n\u001b[0;32m-> 4019\u001b[0;31m             \u001b[0mlog_cout\u001b[0m\u001b[0;34m=\u001b[0m\u001b[0mlog_cout\u001b[0m\u001b[0;34m,\u001b[0m \u001b[0mlog_cerr\u001b[0m\u001b[0;34m=\u001b[0m\u001b[0mlog_cerr\u001b[0m\u001b[0;34m,\u001b[0m\u001b[0;34m\u001b[0m\u001b[0;34m\u001b[0m\u001b[0m\n\u001b[0m\u001b[1;32m   4020\u001b[0m         )\n\u001b[1;32m   4021\u001b[0m \u001b[0;34m\u001b[0m\u001b[0m\n",
            "\u001b[0;32m/usr/local/lib/python3.7/dist-packages/catboost/core.py\u001b[0m in \u001b[0;36m_tune_hyperparams\u001b[0;34m(self, param_grid, X, y, cv, n_iter, partition_random_seed, calc_cv_statistics, search_by_train_test_split, refit, shuffle, stratified, train_size, verbose, plot, log_cout, log_cerr)\u001b[0m\n\u001b[1;32m   3918\u001b[0m             \u001b[0;32massert\u001b[0m \u001b[0;32mnot\u001b[0m \u001b[0mself\u001b[0m\u001b[0;34m.\u001b[0m\u001b[0mis_fitted\u001b[0m\u001b[0;34m(\u001b[0m\u001b[0;34m)\u001b[0m\u001b[0;34m\u001b[0m\u001b[0;34m\u001b[0m\u001b[0m\n\u001b[1;32m   3919\u001b[0m             \u001b[0mself\u001b[0m\u001b[0;34m.\u001b[0m\u001b[0mset_params\u001b[0m\u001b[0;34m(\u001b[0m\u001b[0;34m**\u001b[0m\u001b[0mcv_result\u001b[0m\u001b[0;34m[\u001b[0m\u001b[0;34m'params'\u001b[0m\u001b[0;34m]\u001b[0m\u001b[0;34m)\u001b[0m\u001b[0;34m\u001b[0m\u001b[0;34m\u001b[0m\u001b[0m\n\u001b[0;32m-> 3920\u001b[0;31m             \u001b[0mself\u001b[0m\u001b[0;34m.\u001b[0m\u001b[0mfit\u001b[0m\u001b[0;34m(\u001b[0m\u001b[0mX\u001b[0m\u001b[0;34m,\u001b[0m \u001b[0my\u001b[0m\u001b[0;34m,\u001b[0m \u001b[0msilent\u001b[0m\u001b[0;34m=\u001b[0m\u001b[0;32mTrue\u001b[0m\u001b[0;34m)\u001b[0m\u001b[0;34m\u001b[0m\u001b[0;34m\u001b[0m\u001b[0m\n\u001b[0m\u001b[1;32m   3921\u001b[0m         \u001b[0;32mreturn\u001b[0m \u001b[0mcv_result\u001b[0m\u001b[0;34m\u001b[0m\u001b[0;34m\u001b[0m\u001b[0m\n\u001b[1;32m   3922\u001b[0m \u001b[0;34m\u001b[0m\u001b[0m\n",
            "\u001b[0;32m/usr/local/lib/python3.7/dist-packages/catboost/core.py\u001b[0m in \u001b[0;36mfit\u001b[0;34m(self, X, y, cat_features, text_features, embedding_features, sample_weight, baseline, use_best_model, eval_set, verbose, logging_level, plot, column_description, verbose_eval, metric_period, silent, early_stopping_rounds, save_snapshot, snapshot_file, snapshot_interval, init_model, callbacks, log_cout, log_cerr)\u001b[0m\n\u001b[1;32m   5007\u001b[0m         self._fit(X, y, cat_features, text_features, embedding_features, None, sample_weight, None, None, None, None, baseline, use_best_model,\n\u001b[1;32m   5008\u001b[0m                   \u001b[0meval_set\u001b[0m\u001b[0;34m,\u001b[0m \u001b[0mverbose\u001b[0m\u001b[0;34m,\u001b[0m \u001b[0mlogging_level\u001b[0m\u001b[0;34m,\u001b[0m \u001b[0mplot\u001b[0m\u001b[0;34m,\u001b[0m \u001b[0mcolumn_description\u001b[0m\u001b[0;34m,\u001b[0m \u001b[0mverbose_eval\u001b[0m\u001b[0;34m,\u001b[0m \u001b[0mmetric_period\u001b[0m\u001b[0;34m,\u001b[0m\u001b[0;34m\u001b[0m\u001b[0;34m\u001b[0m\u001b[0m\n\u001b[0;32m-> 5009\u001b[0;31m                   silent, early_stopping_rounds, save_snapshot, snapshot_file, snapshot_interval, init_model, callbacks, log_cout, log_cerr)\n\u001b[0m\u001b[1;32m   5010\u001b[0m         \u001b[0;32mreturn\u001b[0m \u001b[0mself\u001b[0m\u001b[0;34m\u001b[0m\u001b[0;34m\u001b[0m\u001b[0m\n\u001b[1;32m   5011\u001b[0m \u001b[0;34m\u001b[0m\u001b[0m\n",
            "\u001b[0;32m/usr/local/lib/python3.7/dist-packages/catboost/core.py\u001b[0m in \u001b[0;36m_fit\u001b[0;34m(self, X, y, cat_features, text_features, embedding_features, pairs, sample_weight, group_id, group_weight, subgroup_id, pairs_weight, baseline, use_best_model, eval_set, verbose, logging_level, plot, column_description, verbose_eval, metric_period, silent, early_stopping_rounds, save_snapshot, snapshot_file, snapshot_interval, init_model, callbacks, log_cout, log_cerr)\u001b[0m\n\u001b[1;32m   2281\u001b[0m                 \u001b[0mparams\u001b[0m\u001b[0;34m,\u001b[0m\u001b[0;34m\u001b[0m\u001b[0;34m\u001b[0m\u001b[0m\n\u001b[1;32m   2282\u001b[0m                 \u001b[0mallow_clear_pool\u001b[0m\u001b[0;34m,\u001b[0m\u001b[0;34m\u001b[0m\u001b[0;34m\u001b[0m\u001b[0m\n\u001b[0;32m-> 2283\u001b[0;31m                 \u001b[0mtrain_params\u001b[0m\u001b[0;34m[\u001b[0m\u001b[0;34m\"init_model\"\u001b[0m\u001b[0;34m]\u001b[0m\u001b[0;34m\u001b[0m\u001b[0;34m\u001b[0m\u001b[0m\n\u001b[0m\u001b[1;32m   2284\u001b[0m             )\n\u001b[1;32m   2285\u001b[0m \u001b[0;34m\u001b[0m\u001b[0m\n",
            "\u001b[0;32m/usr/local/lib/python3.7/dist-packages/catboost/core.py\u001b[0m in \u001b[0;36m_train\u001b[0;34m(self, train_pool, test_pool, params, allow_clear_pool, init_model)\u001b[0m\n\u001b[1;32m   1703\u001b[0m \u001b[0;34m\u001b[0m\u001b[0m\n\u001b[1;32m   1704\u001b[0m     \u001b[0;32mdef\u001b[0m \u001b[0m_train\u001b[0m\u001b[0;34m(\u001b[0m\u001b[0mself\u001b[0m\u001b[0;34m,\u001b[0m \u001b[0mtrain_pool\u001b[0m\u001b[0;34m,\u001b[0m \u001b[0mtest_pool\u001b[0m\u001b[0;34m,\u001b[0m \u001b[0mparams\u001b[0m\u001b[0;34m,\u001b[0m \u001b[0mallow_clear_pool\u001b[0m\u001b[0;34m,\u001b[0m \u001b[0minit_model\u001b[0m\u001b[0;34m)\u001b[0m\u001b[0;34m:\u001b[0m\u001b[0;34m\u001b[0m\u001b[0;34m\u001b[0m\u001b[0m\n\u001b[0;32m-> 1705\u001b[0;31m         \u001b[0mself\u001b[0m\u001b[0;34m.\u001b[0m\u001b[0m_object\u001b[0m\u001b[0;34m.\u001b[0m\u001b[0m_train\u001b[0m\u001b[0;34m(\u001b[0m\u001b[0mtrain_pool\u001b[0m\u001b[0;34m,\u001b[0m \u001b[0mtest_pool\u001b[0m\u001b[0;34m,\u001b[0m \u001b[0mparams\u001b[0m\u001b[0;34m,\u001b[0m \u001b[0mallow_clear_pool\u001b[0m\u001b[0;34m,\u001b[0m \u001b[0minit_model\u001b[0m\u001b[0;34m.\u001b[0m\u001b[0m_object\u001b[0m \u001b[0;32mif\u001b[0m \u001b[0minit_model\u001b[0m \u001b[0;32melse\u001b[0m \u001b[0;32mNone\u001b[0m\u001b[0;34m)\u001b[0m\u001b[0;34m\u001b[0m\u001b[0;34m\u001b[0m\u001b[0m\n\u001b[0m\u001b[1;32m   1706\u001b[0m         \u001b[0mself\u001b[0m\u001b[0;34m.\u001b[0m\u001b[0m_set_trained_model_attributes\u001b[0m\u001b[0;34m(\u001b[0m\u001b[0;34m)\u001b[0m\u001b[0;34m\u001b[0m\u001b[0;34m\u001b[0m\u001b[0m\n\u001b[1;32m   1707\u001b[0m \u001b[0;34m\u001b[0m\u001b[0m\n",
            "\u001b[0;32m_catboost.pyx\u001b[0m in \u001b[0;36m_catboost._CatBoost._train\u001b[0;34m()\u001b[0m\n",
            "\u001b[0;32m_catboost.pyx\u001b[0m in \u001b[0;36m_catboost._CatBoost._train\u001b[0;34m()\u001b[0m\n",
            "\u001b[0;31mKeyboardInterrupt\u001b[0m: "
          ]
        }
      ],
      "source": [
        "grid_search_result = model.grid_search(grid, \n",
        "                                       X=X_train, \n",
        "                                       y=y_train,\n",
        "                                       verbose=False,\n",
        "                                       plot=True)"
      ]
    },
    {
      "cell_type": "code",
      "source": [
        "cat_predict_proba = model.predict_proba(X_test)[:, 1]"
      ],
      "metadata": {
        "id": "rfM4a1bvUx3-"
      },
      "id": "rfM4a1bvUx3-",
      "execution_count": null,
      "outputs": []
    },
    {
      "cell_type": "code",
      "source": [
        "cat_predict_proba"
      ],
      "metadata": {
        "id": "S1Bt_PCSVEUE"
      },
      "id": "S1Bt_PCSVEUE",
      "execution_count": null,
      "outputs": []
    },
    {
      "cell_type": "code",
      "execution_count": null,
      "id": "847f37c5-4dc4-4678-940b-10cd67be43c1",
      "metadata": {
        "id": "847f37c5-4dc4-4678-940b-10cd67be43c1"
      },
      "outputs": [],
      "source": [
        "cat_predict = model.predict(X_test)"
      ]
    },
    {
      "cell_type": "code",
      "execution_count": null,
      "id": "3155ce96-3372-4ca8-8273-43869f1bfb07",
      "metadata": {
        "id": "3155ce96-3372-4ca8-8273-43869f1bfb07"
      },
      "outputs": [],
      "source": [
        "roc_auc_score(y_test, cat_predict_proba)"
      ]
    },
    {
      "cell_type": "code",
      "source": [],
      "metadata": {
        "id": "qocx5zjbRMiE"
      },
      "id": "qocx5zjbRMiE",
      "execution_count": null,
      "outputs": []
    },
    {
      "cell_type": "code",
      "source": [
        "import tensorflow as tf\n",
        "from keras.models import Sequential\n",
        "from keras.layers import Activation, Dense,Dropout\n",
        "model = Sequential([\n",
        "    Dense(8, activation='selu', input_shape=(100,)),\n",
        "    Dropout(0.5),\n",
        "    Dense(8, activation='selu'),\n",
        "    Dropout(0.5),\n",
        "    Dense(1, activation='selu')\n",
        "])"
      ],
      "metadata": {
        "id": "HIIddTedRMkl"
      },
      "id": "HIIddTedRMkl",
      "execution_count": 28,
      "outputs": []
    },
    {
      "cell_type": "code",
      "source": [
        "def my_loss_fn(y_true, y_pred):\n",
        "    \n",
        "    return roc_auc_score(y_test, pred)\n"
      ],
      "metadata": {
        "id": "FL7t9YyST5fM"
      },
      "id": "FL7t9YyST5fM",
      "execution_count": 29,
      "outputs": []
    },
    {
      "cell_type": "code",
      "source": [
        "model.compile(optimizer='adam', loss='binary_crossentropy')\n",
        "history = model.fit(X_train, y_train, validation_data=(X_train, y_train), \n",
        "                    batch_size=8, epochs=10, verbose=1, \n",
        "                    callbacks=\n",
        "                   [\n",
        "                        tf.keras.callbacks.ModelCheckpoint(\n",
        "                            'best_models/', monitor='val_loss', verbose=1, \n",
        "                            save_best_only=True, save_weights_only=False, \n",
        "                            mode='min', save_freq='epoch')\n",
        "                    ]\n",
        "                   )"
      ],
      "metadata": {
        "colab": {
          "base_uri": "https://localhost:8080/"
        },
        "id": "3vAPL3L9RMmv",
        "outputId": "fcc435a9-fe4d-4d34-bf07-98d25c21a21c"
      },
      "id": "3vAPL3L9RMmv",
      "execution_count": 35,
      "outputs": [
        {
          "output_type": "stream",
          "name": "stdout",
          "text": [
            "Epoch 1/10\n",
            "1985/2000 [============================>.] - ETA: 0s - loss: 3.4423\n",
            "Epoch 1: val_loss improved from inf to 3.30498, saving model to best_models/\n",
            "2000/2000 [==============================] - 7s 3ms/step - loss: 3.4417 - val_loss: 3.3050\n",
            "Epoch 2/10\n",
            "1988/2000 [============================>.] - ETA: 0s - loss: 3.3467\n",
            "Epoch 2: val_loss improved from 3.30498 to 3.30054, saving model to best_models/\n",
            "2000/2000 [==============================] - 6s 3ms/step - loss: 3.3474 - val_loss: 3.3005\n",
            "Epoch 3/10\n",
            "1983/2000 [============================>.] - ETA: 0s - loss: 3.2950\n",
            "Epoch 3: val_loss did not improve from 3.30054\n",
            "2000/2000 [==============================] - 6s 3ms/step - loss: 3.2906 - val_loss: 3.3156\n",
            "Epoch 4/10\n",
            "1978/2000 [============================>.] - ETA: 0s - loss: 3.3150\n",
            "Epoch 4: val_loss did not improve from 3.30054\n",
            "2000/2000 [==============================] - 6s 3ms/step - loss: 3.3122 - val_loss: 3.3236\n",
            "Epoch 5/10\n",
            "1996/2000 [============================>.] - ETA: 0s - loss: 3.2494\n",
            "Epoch 5: val_loss improved from 3.30054 to 3.26562, saving model to best_models/\n",
            "2000/2000 [==============================] - 6s 3ms/step - loss: 3.2472 - val_loss: 3.2656\n",
            "Epoch 6/10\n",
            "1997/2000 [============================>.] - ETA: 0s - loss: 3.1282\n",
            "Epoch 6: val_loss improved from 3.26562 to 3.16762, saving model to best_models/\n",
            "2000/2000 [==============================] - 6s 3ms/step - loss: 3.1286 - val_loss: 3.1676\n",
            "Epoch 7/10\n",
            "1985/2000 [============================>.] - ETA: 0s - loss: 3.1012\n",
            "Epoch 7: val_loss improved from 3.16762 to 3.11769, saving model to best_models/\n",
            "2000/2000 [==============================] - 6s 3ms/step - loss: 3.1061 - val_loss: 3.1177\n",
            "Epoch 8/10\n",
            "1996/2000 [============================>.] - ETA: 0s - loss: 3.0092\n",
            "Epoch 8: val_loss improved from 3.11769 to 2.96957, saving model to best_models/\n",
            "2000/2000 [==============================] - 6s 3ms/step - loss: 3.0093 - val_loss: 2.9696\n",
            "Epoch 9/10\n",
            "1979/2000 [============================>.] - ETA: 0s - loss: 2.8329\n",
            "Epoch 9: val_loss improved from 2.96957 to 2.77716, saving model to best_models/\n",
            "2000/2000 [==============================] - 6s 3ms/step - loss: 2.8318 - val_loss: 2.7772\n",
            "Epoch 10/10\n",
            "1985/2000 [============================>.] - ETA: 0s - loss: 2.4034\n",
            "Epoch 10: val_loss improved from 2.77716 to 2.17796, saving model to best_models/\n",
            "2000/2000 [==============================] - 7s 3ms/step - loss: 2.4028 - val_loss: 2.1780\n"
          ]
        }
      ]
    },
    {
      "cell_type": "code",
      "source": [
        "from keras.models import load_model\n",
        "model = load_model('best_models/')"
      ],
      "metadata": {
        "id": "hcYO4swjRMr5"
      },
      "id": "hcYO4swjRMr5",
      "execution_count": 36,
      "outputs": []
    },
    {
      "cell_type": "code",
      "source": [
        "pred_NN = model.predict(X_test)"
      ],
      "metadata": {
        "id": "rDaNMpSkYPJL"
      },
      "id": "rDaNMpSkYPJL",
      "execution_count": 32,
      "outputs": []
    },
    {
      "cell_type": "code",
      "source": [
        "pred_NN"
      ],
      "metadata": {
        "colab": {
          "base_uri": "https://localhost:8080/"
        },
        "id": "NFikQnmgZpPl",
        "outputId": "02e9982d-ba94-443f-ed68-16d1bbe63724"
      },
      "id": "NFikQnmgZpPl",
      "execution_count": 33,
      "outputs": [
        {
          "output_type": "execute_result",
          "data": {
            "text/plain": [
              "array([[-1.7580993],\n",
              "       [-1.6031966],\n",
              "       [-1.7580987],\n",
              "       ...,\n",
              "       [-1.7580993],\n",
              "       [-1.7580993],\n",
              "       [-1.7580993]], dtype=float32)"
            ]
          },
          "metadata": {},
          "execution_count": 33
        }
      ]
    },
    {
      "cell_type": "code",
      "source": [
        "roc_auc_score(y_test, pred_NN)"
      ],
      "metadata": {
        "colab": {
          "base_uri": "https://localhost:8080/"
        },
        "id": "hsvfK8zKYroZ",
        "outputId": "e93fd2a2-52a8-4afc-af00-623af825a008"
      },
      "id": "hsvfK8zKYroZ",
      "execution_count": 34,
      "outputs": [
        {
          "output_type": "execute_result",
          "data": {
            "text/plain": [
              "0.49151117139769296"
            ]
          },
          "metadata": {},
          "execution_count": 34
        }
      ]
    },
    {
      "cell_type": "code",
      "source": [],
      "metadata": {
        "id": "7UkGeuDQY-wa"
      },
      "id": "7UkGeuDQY-wa",
      "execution_count": null,
      "outputs": []
    },
    {
      "cell_type": "code",
      "source": [],
      "metadata": {
        "id": "Ve6oQ4X7Zvkz"
      },
      "id": "Ve6oQ4X7Zvkz",
      "execution_count": null,
      "outputs": []
    },
    {
      "cell_type": "code",
      "source": [
        "from sklearn.ensemble import RandomForestClassifier\n",
        "from sklearn.datasets import make_classification"
      ],
      "metadata": {
        "id": "WmZDlY2kZvm4"
      },
      "id": "WmZDlY2kZvm4",
      "execution_count": 114,
      "outputs": []
    },
    {
      "cell_type": "code",
      "source": [
        "clf_rf = RandomForestClassifier(n_estimators = 1000, max_depth=15, random_state=0)\n",
        "clf_rf.fit(X_train, y_train)"
      ],
      "metadata": {
        "colab": {
          "base_uri": "https://localhost:8080/"
        },
        "id": "cFx7DqAdaDUe",
        "outputId": "51f6be67-5f3b-4703-e48a-22a34578c302"
      },
      "id": "cFx7DqAdaDUe",
      "execution_count": 123,
      "outputs": [
        {
          "output_type": "execute_result",
          "data": {
            "text/plain": [
              "RandomForestClassifier(max_depth=15, n_estimators=1000, random_state=0)"
            ]
          },
          "metadata": {},
          "execution_count": 123
        }
      ]
    },
    {
      "cell_type": "code",
      "source": [
        "pred_rf_proba = clf_rf.predict_proba(X_test)[:, 1]"
      ],
      "metadata": {
        "id": "yHbtsw2EaSGj"
      },
      "id": "yHbtsw2EaSGj",
      "execution_count": 129,
      "outputs": []
    },
    {
      "cell_type": "code",
      "source": [
        "pred_rf = clf_rf.predict(X_test)"
      ],
      "metadata": {
        "id": "hs5XwcOrblqi"
      },
      "id": "hs5XwcOrblqi",
      "execution_count": 130,
      "outputs": []
    },
    {
      "cell_type": "code",
      "source": [
        "roc_auc_score(y_test, pred_rf)"
      ],
      "metadata": {
        "colab": {
          "base_uri": "https://localhost:8080/"
        },
        "id": "6Xl3hz3ialMU",
        "outputId": "45f293d6-3a61-483e-eda3-4c3ff0c84238"
      },
      "id": "6Xl3hz3ialMU",
      "execution_count": 131,
      "outputs": [
        {
          "output_type": "execute_result",
          "data": {
            "text/plain": [
              "0.5001971260945323"
            ]
          },
          "metadata": {},
          "execution_count": 131
        }
      ]
    },
    {
      "cell_type": "code",
      "source": [
        "roc_auc_score(y_test, pred_rf_proba)"
      ],
      "metadata": {
        "colab": {
          "base_uri": "https://localhost:8080/"
        },
        "id": "MpOrPLiIaDW6",
        "outputId": "e9c9cf85-65d8-4b6a-d8f2-f4ba012f04dd"
      },
      "id": "MpOrPLiIaDW6",
      "execution_count": 132,
      "outputs": [
        {
          "output_type": "execute_result",
          "data": {
            "text/plain": [
              "0.5774545300403626"
            ]
          },
          "metadata": {},
          "execution_count": 132
        }
      ]
    },
    {
      "cell_type": "code",
      "source": [],
      "metadata": {
        "id": "rtYPDxiraDYi"
      },
      "id": "rtYPDxiraDYi",
      "execution_count": null,
      "outputs": []
    }
  ],
  "metadata": {
    "kernelspec": {
      "display_name": "Python 3 (ipykernel)",
      "language": "python",
      "name": "python3"
    },
    "language_info": {
      "codemirror_mode": {
        "name": "ipython",
        "version": 3
      },
      "file_extension": ".py",
      "mimetype": "text/x-python",
      "name": "python",
      "nbconvert_exporter": "python",
      "pygments_lexer": "ipython3",
      "version": "3.9.7"
    },
    "colab": {
      "name": "catboost_top_words.ipynb",
      "provenance": [],
      "machine_shape": "hm"
    },
    "accelerator": "GPU",
    "gpuClass": "standard",
    "widgets": {
      "application/vnd.jupyter.widget-state+json": {
        "1d9ab9ccd5304a38a576cc3be86e0271": {
          "model_module": "catboost-widget",
          "model_name": "CatboostWidgetModel",
          "model_module_version": "^1.0.0",
          "state": {
            "_dom_classes": [],
            "_model_module": "catboost-widget",
            "_model_module_version": "^1.0.0",
            "_model_name": "CatboostWidgetModel",
            "_view_count": null,
            "_view_module": "catboost-widget",
            "_view_module_version": "^1.0.0",
            "_view_name": "CatboostWidgetView",
            "data": {
              "catboost_info": {
                "path": "catboost_info",
                "name": "catboost_info",
                "content": {
                  "passed_iterations": 0,
                  "total_iterations": 1,
                  "data": {
                    "iterations": [
                      {
                        "parameters": [
                          {
                            "depth": 10,
                            "learning_rate": 0.1,
                            "iterations": 1000
                          }
                        ],
                        "learn": [
                          0.1451705158
                        ],
                        "iteration": 0,
                        "passed_time": 34.18468605,
                        "remaining_time": 0,
                        "test": [
                          0.5868060297,
                          0.5513139425
                        ]
                      }
                    ],
                    "meta": {
                      "test_sets": [
                        "test"
                      ],
                      "test_metrics": [
                        {
                          "best_value": "Max",
                          "name": "AUC"
                        },
                        {
                          "best_value": "Min",
                          "name": "Logloss"
                        }
                      ],
                      "learn_metrics": [
                        {
                          "best_value": "Min",
                          "name": "Logloss"
                        }
                      ],
                      "launch_mode": "Train",
                      "parameters": "parameters",
                      "iteration_count": 1,
                      "learn_sets": [
                        "learn"
                      ],
                      "name": "experiment"
                    }
                  }
                }
              }
            },
            "layout": "IPY_MODEL_aec76e746ace410cbe42b889309a4de3"
          }
        }
      }
    }
  },
  "nbformat": 4,
  "nbformat_minor": 5
}